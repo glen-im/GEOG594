{
 "cells": [
  {
   "cell_type": "markdown",
   "metadata": {},
   "source": [
    "# Classification\n",
    "\n",
    "Guess what kind of wine is being reviewed\n",
    "\n",
    "Ling 583  \n",
    "March 8, 2019  \n",
    "My name is Glen Heungyong Im (RedID: 823395723)  <p>\n",
    "    \n",
    "    \n",
    "My best performance:<br>\n",
    "(0.788025, 0.006157769482531792)\n",
    "<p>\n",
    "My best model:<br>\n",
    "best_lo = make_pipeline(CountVectorizer(analyzer=identity),\n",
    "                   TfidfTransformer(),\n",
    "                   LogisticRegression(C=1.2067926406393288, penalty='l1'))\n",
    "score = cross_val_score(best_lo, df['tokens'], df['wine_variant'], cv=folds, n_jobs=-1)"
   ]
  },
  {
   "cell_type": "code",
   "execution_count": 4,
   "metadata": {},
   "outputs": [],
   "source": [
    "import pandas as pd\n",
    "import numpy as np\n",
    "from cytoolz import *\n",
    "import spacy\n",
    "\n",
    "import matplotlib.pyplot as plt\n",
    "\n",
    "import seaborn as sns\n",
    "\n",
    "%matplotlib inline"
   ]
  },
  {
   "cell_type": "code",
   "execution_count": 5,
   "metadata": {},
   "outputs": [],
   "source": [
    "from sklearn.model_selection import *\n",
    "from sklearn.linear_model import *\n",
    "from sklearn.dummy import *\n",
    "from sklearn.pipeline import make_pipeline\n",
    "from sklearn.feature_extraction.text import *\n",
    "from sklearn.metrics import *"
   ]
  },
  {
   "cell_type": "code",
   "execution_count": 6,
   "metadata": {},
   "outputs": [],
   "source": [
    "nlp = spacy.load('en')"
   ]
  },
  {
   "cell_type": "markdown",
   "metadata": {},
   "source": [
    "## 1. Prepare data"
   ]
  },
  {
   "cell_type": "markdown",
   "metadata": {},
   "source": [
    "Load and prepare the data"
   ]
  },
  {
   "cell_type": "code",
   "execution_count": 7,
   "metadata": {},
   "outputs": [
    {
     "name": "stdout",
     "output_type": "stream",
     "text": [
      "Wall time: 8.2 s\n"
     ]
    }
   ],
   "source": [
    "%%time\n",
    "\n",
    "df = pd.read_msgpack('https://bit.ly/2Hk5Kly')"
   ]
  },
  {
   "cell_type": "code",
   "execution_count": 8,
   "metadata": {},
   "outputs": [
    {
     "name": "stdout",
     "output_type": "stream",
     "text": [
      "Wall time: 3min 30s\n"
     ]
    }
   ],
   "source": [
    "%%time\n",
    "\n",
    "def tokenize(text):\n",
    "    return [tok.orth_ for tok in nlp.tokenizer(text)]\n",
    "df['tokens'] = df['review_text'].apply(tokenize)"
   ]
  },
  {
   "cell_type": "markdown",
   "metadata": {},
   "source": [
    "## 2. Baseline"
   ]
  },
  {
   "cell_type": "code",
   "execution_count": 9,
   "metadata": {},
   "outputs": [],
   "source": [
    "folds = StratifiedKFold(shuffle=True, n_splits=10, random_state=10)"
   ]
  },
  {
   "cell_type": "code",
   "execution_count": 10,
   "metadata": {},
   "outputs": [],
   "source": [
    "baseline = DummyClassifier('most_frequent')"
   ]
  },
  {
   "cell_type": "code",
   "execution_count": 11,
   "metadata": {},
   "outputs": [
    {
     "data": {
      "text/plain": [
       "(0.25, 0.0)"
      ]
     },
     "execution_count": 11,
     "metadata": {},
     "output_type": "execute_result"
    }
   ],
   "source": [
    "base_score = cross_val_score(baseline, df['tokens'], df['wine_variant'], cv=10)\n",
    "base_score.mean(), base_score.std()"
   ]
  },
  {
   "cell_type": "markdown",
   "metadata": {},
   "source": [
    "## 3. Simple Logistic Regression"
   ]
  },
  {
   "cell_type": "markdown",
   "metadata": {},
   "source": [
    "#### Simple Logistic Regression with Tf-Idf transform scales"
   ]
  },
  {
   "cell_type": "code",
   "execution_count": 12,
   "metadata": {},
   "outputs": [],
   "source": [
    "lr2 = make_pipeline(CountVectorizer(analyzer=identity),\n",
    "                   TfidfTransformer(),\n",
    "                   LogisticRegression())"
   ]
  },
  {
   "cell_type": "code",
   "execution_count": 13,
   "metadata": {},
   "outputs": [
    {
     "name": "stdout",
     "output_type": "stream",
     "text": [
      "Wall time: 1min 12s\n"
     ]
    }
   ],
   "source": [
    "%%time\n",
    "\n",
    "score = cross_val_score(lr2, df['tokens'], df['wine_variant'], cv=folds, n_jobs=-1)"
   ]
  },
  {
   "cell_type": "code",
   "execution_count": 25,
   "metadata": {},
   "outputs": [
    {
     "data": {
      "text/plain": [
       "(0.7865, 0.0072783926797061445)"
      ]
     },
     "execution_count": 25,
     "metadata": {},
     "output_type": "execute_result"
    }
   ],
   "source": [
    "score.mean(), score.std()"
   ]
  },
  {
   "cell_type": "code",
   "execution_count": 14,
   "metadata": {},
   "outputs": [],
   "source": [
    "lr = make_pipeline(CountVectorizer(analyzer=identity), \n",
    "                   LogisticRegression())"
   ]
  },
  {
   "cell_type": "code",
   "execution_count": 12,
   "metadata": {
    "scrolled": true
   },
   "outputs": [
    {
     "name": "stdout",
     "output_type": "stream",
     "text": [
      "Wall time: 54min 7s\n"
     ]
    }
   ],
   "source": [
    "%%time\n",
    "\n",
    "Cs=  [1e-7, 1e-5, 0.1, 0.5, 0.75, 1.0, 1.5, 2.0, 5.0, 10.0, 20.0, 100.0]\n",
    "train, valid = validation_curve(lr, df['tokens'], df['wine_variant'], 'logisticregression__C', Cs, cv=folds, n_jobs=-1)"
   ]
  },
  {
   "cell_type": "code",
   "execution_count": 13,
   "metadata": {},
   "outputs": [
    {
     "data": {
      "text/plain": [
       "Text(0, 0.5, 'score')"
      ]
     },
     "execution_count": 13,
     "metadata": {},
     "output_type": "execute_result"
    },
    {
     "data": {
      "image/png": "[encoded data removed]",
      "text/plain": [
       "<Figure size 432x288 with 1 Axes>"
      ]
     },
     "metadata": {
      "needs_background": "light"
     },
     "output_type": "display_data"
    }
   ],
   "source": [
    "plt.plot(Cs,np.mean(train, axis=1))\n",
    "plt.plot(Cs,np.mean(valid, axis=1))\n",
    "plt.xscale('log')\n",
    "plt.xlabel('C')\n",
    "plt.ylabel('score')"
   ]
  },
  {
   "cell_type": "markdown",
   "metadata": {},
   "source": [
    "#### Simple Logistic Regression"
   ]
  },
  {
   "cell_type": "code",
   "execution_count": 26,
   "metadata": {},
   "outputs": [
    {
     "data": {
      "text/plain": [
       "(0.2647, 0.0016232683080747937)"
      ]
     },
     "execution_count": 26,
     "metadata": {},
     "output_type": "execute_result"
    }
   ],
   "source": [
    "score = cross_val_score(lr, df['tokens'], df['wine_variant'], cv=folds, n_jobs=-1)\n",
    "score.mean(), score.std()"
   ]
  },
  {
   "cell_type": "code",
   "execution_count": 16,
   "metadata": {},
   "outputs": [
    {
     "name": "stdout",
     "output_type": "stream",
     "text": [
      "Wall time: 999 µs\n"
     ]
    }
   ],
   "source": [
    "%%time\n",
    "\n",
    "results3 = [ ]\n",
    "lr.set_params(countvectorizer__min_df=5)"
   ]
  },
  {
   "cell_type": "code",
   "execution_count": 18,
   "metadata": {},
   "outputs": [
    {
     "data": {
      "text/plain": [
       "Pipeline(memory=None,\n",
       "     steps=[('countvectorizer', CountVectorizer(analyzer=<cyfunction identity at 0x000002CC39B529A0>,\n",
       "        binary=False, decode_error='strict', dtype=<class 'numpy.int64'>,\n",
       "        encoding='utf-8', input='content', lowercase=True, max_df=1.0,\n",
       "        max_features=None, min_df=5, ngram_range=(1, 1), p...penalty='l2', random_state=None, solver='warn',\n",
       "          tol=0.0001, verbose=0, warm_start=False))])"
      ]
     },
     "execution_count": 18,
     "metadata": {},
     "output_type": "execute_result"
    }
   ],
   "source": [
    "lr"
   ]
  },
  {
   "cell_type": "code",
   "execution_count": 19,
   "metadata": {},
   "outputs": [
    {
     "data": {
      "text/plain": [
       "Pipeline(memory=None,\n",
       "     steps=[('countvectorizer', CountVectorizer(analyzer=<cyfunction identity at 0x000002CC39B529A0>,\n",
       "        binary=False, decode_error='strict', dtype=<class 'numpy.int64'>,\n",
       "        encoding='utf-8', input='content', lowercase=True, max_df=1.0,\n",
       "        max_features=None, min_df=1, ngram_range=(1, 1), p...penalty='l2', random_state=None, solver='warn',\n",
       "          tol=0.0001, verbose=0, warm_start=False))])"
      ]
     },
     "execution_count": 19,
     "metadata": {},
     "output_type": "execute_result"
    }
   ],
   "source": [
    "lr2"
   ]
  },
  {
   "cell_type": "markdown",
   "metadata": {},
   "source": [
    "## 4. Best classifier pipeline"
   ]
  },
  {
   "cell_type": "markdown",
   "metadata": {},
   "source": [
    "Started from MultinomialNB"
   ]
  },
  {
   "cell_type": "code",
   "execution_count": 29,
   "metadata": {},
   "outputs": [],
   "source": [
    "from sklearn.naive_bayes import *"
   ]
  },
  {
   "cell_type": "code",
   "execution_count": 31,
   "metadata": {},
   "outputs": [],
   "source": [
    "best_nb = make_pipeline(CountVectorizer(analyzer=identity), MultinomialNB())"
   ]
  },
  {
   "cell_type": "code",
   "execution_count": 32,
   "metadata": {},
   "outputs": [],
   "source": [
    "min_dfs = [1, 2, 3, 5, 10, 15, 20, 25, 50, 100]\n",
    "train, valid = validation_curve(best_nb, \n",
    "                                df['tokens'], \n",
    "                                df['wine_variant'], \n",
    "                                'countvectorizer__min_df',\n",
    "                                min_dfs,\n",
    "                                cv=folds, n_jobs=-1)"
   ]
  },
  {
   "cell_type": "code",
   "execution_count": 33,
   "metadata": {},
   "outputs": [
    {
     "data": {
      "text/plain": [
       "Text(0, 0.5, 'score')"
      ]
     },
     "execution_count": 33,
     "metadata": {},
     "output_type": "execute_result"
    },
    {
     "data": {
      "image/png": "[encoded data removed]",
      "text/plain": [
       "<Figure size 432x288 with 1 Axes>"
      ]
     },
     "metadata": {
      "needs_background": "light"
     },
     "output_type": "display_data"
    }
   ],
   "source": [
    "plt.plot(min_dfs,np.mean(train, axis=1))\n",
    "plt.plot(min_dfs,np.mean(valid, axis=1))\n",
    "plt.xlabel('min_df')\n",
    "plt.ylabel('score')"
   ]
  },
  {
   "cell_type": "code",
   "execution_count": 34,
   "metadata": {},
   "outputs": [
    {
     "name": "stdout",
     "output_type": "stream",
     "text": [
      "Wall time: 8min 3s\n"
     ]
    }
   ],
   "source": [
    "%%time\n",
    "\n",
    "best_nb.set_params(countvectorizer__min_df=1)\n",
    "alphas = [1e-7, 1e-5, 0.1, 0.5, 0.75, 1.0, 1.5, 2.0, 5.0, 10.0, 20.0, 100.0]\n",
    "train, valid = validation_curve(best_nb, \n",
    "                                df['tokens'], \n",
    "                                df['wine_variant'], \n",
    "                                'multinomialnb__alpha',\n",
    "                                alphas,\n",
    "                                cv=folds, n_jobs=-1)"
   ]
  },
  {
   "cell_type": "code",
   "execution_count": 35,
   "metadata": {},
   "outputs": [
    {
     "data": {
      "text/plain": [
       "Text(0, 0.5, 'score')"
      ]
     },
     "execution_count": 35,
     "metadata": {},
     "output_type": "execute_result"
    },
    {
     "data": {
      "image/png": "[encoded data removed]",
      "text/plain": [
       "<Figure size 432x288 with 1 Axes>"
      ]
     },
     "metadata": {
      "needs_background": "light"
     },
     "output_type": "display_data"
    }
   ],
   "source": [
    "plt.plot(alphas,np.mean(train, axis=1))\n",
    "plt.plot(alphas,np.mean(valid, axis=1))\n",
    "plt.xscale('log')\n",
    "plt.xlabel('alpha')\n",
    "plt.ylabel('score')"
   ]
  },
  {
   "cell_type": "code",
   "execution_count": 37,
   "metadata": {},
   "outputs": [
    {
     "name": "stdout",
     "output_type": "stream",
     "text": [
      "Wall time: 25min 29s\n"
     ]
    }
   ],
   "source": [
    "%%time\n",
    "\n",
    "results = [ ]\n",
    "\n",
    "for min_df in [1, 2, 3, 5, 10, 20]:\n",
    "    best_nb.set_params(countvectorizer__min_df=min_df)\n",
    "    sizes, train, valid = learning_curve(best_nb, \n",
    "                                         df['tokens'], \n",
    "                                         df['wine_variant'], \n",
    "                                         train_sizes=np.linspace(0.1, 1.0, num=10),\n",
    "                                         cv=folds, n_jobs=-1)\n",
    "    results.extend((min_df, sizes[i], t, v) for i in range(len(sizes)) \n",
    "                                    for t,v in zip(train[i], valid[i]))"
   ]
  },
  {
   "cell_type": "code",
   "execution_count": 38,
   "metadata": {},
   "outputs": [],
   "source": [
    "df1 = pd.DataFrame(results, columns=['min_df', 'n', 'train', 'valid'])\n",
    "df1 = df1.melt(id_vars=['n', 'min_df'], value_vars=['train', 'valid'], var_name='type', value_name='score')"
   ]
  },
  {
   "cell_type": "code",
   "execution_count": 39,
   "metadata": {},
   "outputs": [],
   "source": [
    "sns.set_context('talk')\n",
    "sns.set_style({'axes.grid':True, \n",
    "               'grid.color':'0.9',\n",
    "            'axes.spines.left':False,'axes.spines.bottom':False})"
   ]
  },
  {
   "cell_type": "code",
   "execution_count": 40,
   "metadata": {},
   "outputs": [
    {
     "name": "stderr",
     "output_type": "stream",
     "text": [
      "C:\\Users\\Glen\\Anaconda3\\lib\\site-packages\\scipy\\stats\\stats.py:1713: FutureWarning: Using a non-tuple sequence for multidimensional indexing is deprecated; use `arr[tuple(seq)]` instead of `arr[seq]`. In the future this will be interpreted as an array index, `arr[np.array(seq)]`, which will result either in an error or a different result.\n",
      "  return np.add.reduce(sorted[indexer] * weights, axis=axis) / sumval\n"
     ]
    },
    {
     "data": {
      "image/png": "[encoded data removed]",
      "text/plain": [
       "<Figure size 1178.77x720 with 6 Axes>"
      ]
     },
     "metadata": {
      "needs_background": "light"
     },
     "output_type": "display_data"
    }
   ],
   "source": [
    "sns.relplot(x='n', y='score', hue='type', col='min_df', kind='line', data=df1, col_wrap=3)\n",
    "sns.despine(left=True, bottom=True)"
   ]
  },
  {
   "cell_type": "code",
   "execution_count": 41,
   "metadata": {},
   "outputs": [
    {
     "name": "stdout",
     "output_type": "stream",
     "text": [
      "Wall time: 27min 4s\n"
     ]
    }
   ],
   "source": [
    "%%time\n",
    "\n",
    "best_nb.set_params(countvectorizer__min_df=1)\n",
    "results2 = [ ]\n",
    "for alpha in [1e-7, 0.1, 0.5, 1.0, 2.0, 10.0]:\n",
    "    best_nb.set_params(multinomialnb__alpha=alpha)\n",
    "    sizes, train, valid = learning_curve(best_nb, \n",
    "                                         df['tokens'], \n",
    "                                         df['wine_variant'], \n",
    "                                         train_sizes=np.linspace(0.1, 1.0, num=10),\n",
    "                                         cv=folds, n_jobs=-1)\n",
    "    results2.extend((alpha, sizes[i], t, v) for i in range(len(sizes)) \n",
    "                                    for t,v in zip(train[i], valid[i]))"
   ]
  },
  {
   "cell_type": "code",
   "execution_count": 42,
   "metadata": {},
   "outputs": [],
   "source": [
    "df2 = pd.DataFrame(results2, columns=['alpha', 'n', 'train', 'valid'])\n",
    "df2 = df2.melt(id_vars=['n', 'alpha'], value_vars=['train', 'valid'], var_name='type', value_name='score')"
   ]
  },
  {
   "cell_type": "code",
   "execution_count": 43,
   "metadata": {},
   "outputs": [
    {
     "name": "stderr",
     "output_type": "stream",
     "text": [
      "C:\\Users\\Glen\\Anaconda3\\lib\\site-packages\\scipy\\stats\\stats.py:1713: FutureWarning: Using a non-tuple sequence for multidimensional indexing is deprecated; use `arr[tuple(seq)]` instead of `arr[seq]`. In the future this will be interpreted as an array index, `arr[np.array(seq)]`, which will result either in an error or a different result.\n",
      "  return np.add.reduce(sorted[indexer] * weights, axis=axis) / sumval\n"
     ]
    },
    {
     "data": {
      "image/png": "[encoded data removed]",
      "text/plain": [
       "<Figure size 1178.77x720 with 6 Axes>"
      ]
     },
     "metadata": {
      "needs_background": "light"
     },
     "output_type": "display_data"
    }
   ],
   "source": [
    "sns.relplot(x='n', y='score', hue='type', col='alpha', kind='line', data=df2, col_wrap=3)\n",
    "sns.despine(left=True, bottom=True)"
   ]
  },
  {
   "cell_type": "code",
   "execution_count": 44,
   "metadata": {
    "scrolled": true
   },
   "outputs": [
    {
     "name": "stdout",
     "output_type": "stream",
     "text": [
      "Fitting 10 folds for each of 12 candidates, totalling 120 fits\n"
     ]
    },
    {
     "name": "stderr",
     "output_type": "stream",
     "text": [
      "[Parallel(n_jobs=-1)]: Using backend LokyBackend with 4 concurrent workers.\n",
      "[Parallel(n_jobs=-1)]: Done  42 tasks      | elapsed:  2.4min\n",
      "[Parallel(n_jobs=-1)]: Done 120 out of 120 | elapsed:  7.0min finished\n"
     ]
    },
    {
     "name": "stdout",
     "output_type": "stream",
     "text": [
      "Wall time: 7min 1s\n"
     ]
    }
   ],
   "source": [
    "%%time\n",
    "params = {'countvectorizer__min_df':[0.1, 0.5, 1, 20],\n",
    "          'multinomialnb__alpha':[0.1,0.5,1.0]}\n",
    "grid_search = GridSearchCV(best_nb, params, n_jobs=-1, verbose=1, cv=folds, return_train_score=True)\n",
    "grid_search.fit(df['tokens'], df['wine_variant'])\n",
    "grid_search.best_params_"
   ]
  },
  {
   "cell_type": "code",
   "execution_count": 47,
   "metadata": {},
   "outputs": [
    {
     "data": {
      "text/plain": [
       "{'countvectorizer__min_df': 20, 'multinomialnb__alpha': 1.0}"
      ]
     },
     "execution_count": 47,
     "metadata": {},
     "output_type": "execute_result"
    }
   ],
   "source": [
    "grid_search.best_params_"
   ]
  },
  {
   "cell_type": "code",
   "execution_count": 46,
   "metadata": {},
   "outputs": [
    {
     "data": {
      "text/plain": [
       "<matplotlib.axes._subplots.AxesSubplot at 0x2cc568d2358>"
      ]
     },
     "execution_count": 46,
     "metadata": {},
     "output_type": "execute_result"
    },
    {
     "data": {
      "image/png": "[encoded data removed]",
      "text/plain": [
       "<Figure size 432x288 with 1 Axes>"
      ]
     },
     "metadata": {
      "needs_background": "light"
     },
     "output_type": "display_data"
    }
   ],
   "source": [
    "%matplotlib inline\n",
    "\n",
    "grid = pd.DataFrame(grid_search.cv_results_, dtype=float)\n",
    "grid.plot.line('param_countvectorizer__min_df', 'mean_test_score')"
   ]
  },
  {
   "cell_type": "code",
   "execution_count": 77,
   "metadata": {
    "scrolled": true
   },
   "outputs": [
    {
     "data": {
      "text/plain": [
       "(0.772025, 0.006770755127753485)"
      ]
     },
     "execution_count": 77,
     "metadata": {},
     "output_type": "execute_result"
    }
   ],
   "source": [
    "best_nb = make_pipeline(CountVectorizer(min_df=20, analyzer=identity), MultinomialNB(alpha=1.0))\n",
    "\n",
    "score = cross_val_score(best_nb, df['tokens'], df['wine_variant'], cv=folds, n_jobs=-1)\n",
    "score.mean(), score.std()"
   ]
  },
  {
   "cell_type": "markdown",
   "metadata": {},
   "source": [
    "The result is not better than the logistic regression with Tf-Idf transform scale, \n",
    "But conducted error analysis to draw some insights from errors."
   ]
  },
  {
   "cell_type": "markdown",
   "metadata": {},
   "source": [
    "## 5. Error analysis and discussion"
   ]
  },
  {
   "cell_type": "markdown",
   "metadata": {},
   "source": [
    "Create a classification report and confusion matrix"
   ]
  },
  {
   "cell_type": "code",
   "execution_count": 182,
   "metadata": {},
   "outputs": [],
   "source": [
    "itrain, itest = first(folds.split(df['tokens'], \n",
    "                                  df['wine_variant']))\n",
    "train = df.iloc[itrain]\n",
    "test = df.iloc[itest]"
   ]
  },
  {
   "cell_type": "code",
   "execution_count": 183,
   "metadata": {},
   "outputs": [],
   "source": [
    "best_nb.fit(train['tokens'], train['wine_variant'])\n",
    "pred = best_nb.predict(test['tokens'])"
   ]
  },
  {
   "cell_type": "code",
   "execution_count": 184,
   "metadata": {},
   "outputs": [
    {
     "name": "stdout",
     "output_type": "stream",
     "text": [
      "                    precision    recall  f1-score   support\n",
      "\n",
      "Cabernet Sauvignon       0.71      0.69      0.70      1000\n",
      "        Chardonnay       0.86      0.82      0.84      1000\n",
      "            Merlot       0.69      0.74      0.72      1000\n",
      "   Sauvignon Blanc       0.86      0.85      0.85      1000\n",
      "\n",
      "         micro avg       0.78      0.78      0.78      4000\n",
      "         macro avg       0.78      0.78      0.78      4000\n",
      "      weighted avg       0.78      0.78      0.78      4000\n",
      "\n"
     ]
    }
   ],
   "source": [
    "print(classification_report(test['wine_variant'], pred))"
   ]
  },
  {
   "cell_type": "code",
   "execution_count": 185,
   "metadata": {},
   "outputs": [
    {
     "data": {
      "text/plain": [
       "array([[693,  14, 288,   5],\n",
       "       [ 36, 823,  23, 118],\n",
       "       [234,   9, 744,  13],\n",
       "       [ 18, 116,  18, 848]], dtype=int64)"
      ]
     },
     "execution_count": 185,
     "metadata": {},
     "output_type": "execute_result"
    }
   ],
   "source": [
    "confusion_matrix(test['wine_variant'], pred)"
   ]
  },
  {
   "cell_type": "code",
   "execution_count": 58,
   "metadata": {},
   "outputs": [],
   "source": [
    "from sklearn.utils.multiclass import unique_labels\n",
    "\n",
    "def plot_cm(true, pred, cmap=plt.cm.Blues):\n",
    "    cm = confusion_matrix(true, pred)\n",
    "    classes = unique_labels(true)\n",
    "    fig, ax = plt.subplots()\n",
    "    im = ax.imshow(cm, interpolation='nearest', cmap=cmap)\n",
    "    ax.figure.colorbar(im, ax=ax)\n",
    "    ax.set(xticks=np.arange(cm.shape[1]),\n",
    "           yticks=np.arange(cm.shape[0]),\n",
    "           xticklabels=classes, yticklabels=classes,\n",
    "           title='Confusion matrix',\n",
    "           ylabel='True label',\n",
    "           xlabel='Predicted label')\n",
    "    plt.setp(ax.get_xticklabels(), rotation=45, ha='right', rotation_mode='anchor')"
   ]
  },
  {
   "cell_type": "code",
   "execution_count": 82,
   "metadata": {},
   "outputs": [
    {
     "data": {
      "image/png": "[encoded data removed]",
      "text/plain": [
       "<Figure size 432x288 with 2 Axes>"
      ]
     },
     "metadata": {
      "needs_background": "light"
     },
     "output_type": "display_data"
    }
   ],
   "source": [
    "plot_cm(test['wine_variant'], pred)"
   ]
  },
  {
   "cell_type": "code",
   "execution_count": 187,
   "metadata": {},
   "outputs": [
    {
     "data": {
      "text/html": [
       "<div>\n",
       "<style scoped>\n",
       "    .dataframe tbody tr th:only-of-type {\n",
       "        vertical-align: middle;\n",
       "    }\n",
       "\n",
       "    .dataframe tbody tr th {\n",
       "        vertical-align: top;\n",
       "    }\n",
       "\n",
       "    .dataframe thead th {\n",
       "        text-align: right;\n",
       "    }\n",
       "</style>\n",
       "<table border=\"1\" class=\"dataframe\">\n",
       "  <thead>\n",
       "    <tr style=\"text-align: right;\">\n",
       "      <th></th>\n",
       "      <th>wine_variant</th>\n",
       "      <th>review_text</th>\n",
       "      <th>tokens</th>\n",
       "    </tr>\n",
       "  </thead>\n",
       "  <tbody>\n",
       "    <tr>\n",
       "      <th>8</th>\n",
       "      <td>Cabernet Sauvignon</td>\n",
       "      <td>Sweet red fruits and still a bit of tannins, but everything is well integrated in this wine. It has some real nice cherry flavors and a hint of tobacco. The finish is smooth and silky.</td>\n",
       "      <td>[Sweet, red, fruits, and, still, a, bit, of, tannins, ,, but, everything, is, well, integrated, in, this, wine, ., It, has, some, real, nice, cherry, flavors, and, a, hint, of, tobacco, ., The, finish, is, smooth, and, silky, .]</td>\n",
       "    </tr>\n",
       "    <tr>\n",
       "      <th>131</th>\n",
       "      <td>Cabernet Sauvignon</td>\n",
       "      <td>Begins with blueberry, bitter chocolate and cassis. The palate shows dried blue fruit, cracked pepper and sage. Rustic and brawny in feel with firm tannin and full finishing notes. Very nice.</td>\n",
       "      <td>[Begins, with, blueberry, ,, bitter, chocolate, and, cassis, ., The, palate, shows, dried, blue, fruit, ,, cracked, pepper, and, sage, ., Rustic, and, brawny, in, feel, with, firm, tannin, and, full, finishing, notes, ., Very, nice, .]</td>\n",
       "    </tr>\n",
       "    <tr>\n",
       "      <th>...</th>\n",
       "      <td>...</td>\n",
       "      <td>...</td>\n",
       "      <td>...</td>\n",
       "    </tr>\n",
       "    <tr>\n",
       "      <th>39875</th>\n",
       "      <td>Sauvignon Blanc</td>\n",
       "      <td>Not bad, but nothing special. Could sense a bit of oak. Good apple and melon flavors, just nothing that stood out.</td>\n",
       "      <td>[Not, bad, ,, but, nothing, special, ., Could, sense, a, bit, of, oak, ., Good, apple, and, melon, flavors, ,, just, nothing, that, stood, out, .]</td>\n",
       "    </tr>\n",
       "    <tr>\n",
       "      <th>39957</th>\n",
       "      <td>Sauvignon Blanc</td>\n",
       "      <td>Cork crumbled and so I had to double decant via some filter bags. Sauternes colour, and a bit of fruit on the nose. No denying the age, but there was an earthy tangerine taste. Dry on the finish though. Just drinkable.</td>\n",
       "      <td>[Cork, crumbled, and, so, I, had, to, double, decant, via, some, filter, bags, ., Sauternes, colour, ,, and, a, bit, of, fruit, on, the, nose, ., No, denying, the, age, ,, but, there, was, an, earthy, tangerine, taste, ., Dry, on, the, finish, though, ., Just, drinkable, .]</td>\n",
       "    </tr>\n",
       "  </tbody>\n",
       "</table>\n",
       "<p>892 rows × 3 columns</p>\n",
       "</div>"
      ],
      "text/plain": [
       "             wine_variant  \\\n",
       "8      Cabernet Sauvignon   \n",
       "131    Cabernet Sauvignon   \n",
       "...                   ...   \n",
       "39875     Sauvignon Blanc   \n",
       "39957     Sauvignon Blanc   \n",
       "\n",
       "                                                                                                                                                                                                                      review_text  \\\n",
       "8                                        Sweet red fruits and still a bit of tannins, but everything is well integrated in this wine. It has some real nice cherry flavors and a hint of tobacco. The finish is smooth and silky.   \n",
       "131                               Begins with blueberry, bitter chocolate and cassis. The palate shows dried blue fruit, cracked pepper and sage. Rustic and brawny in feel with firm tannin and full finishing notes. Very nice.   \n",
       "...                                                                                                                                                                                                                           ...   \n",
       "39875                                                                                                          Not bad, but nothing special. Could sense a bit of oak. Good apple and melon flavors, just nothing that stood out.   \n",
       "39957  Cork crumbled and so I had to double decant via some filter bags. Sauternes colour, and a bit of fruit on the nose. No denying the age, but there was an earthy tangerine taste. Dry on the finish though. Just drinkable.   \n",
       "\n",
       "                                                                                                                                                                                                                                                                                   tokens  \n",
       "8                                                    [Sweet, red, fruits, and, still, a, bit, of, tannins, ,, but, everything, is, well, integrated, in, this, wine, ., It, has, some, real, nice, cherry, flavors, and, a, hint, of, tobacco, ., The, finish, is, smooth, and, silky, .]  \n",
       "131                                           [Begins, with, blueberry, ,, bitter, chocolate, and, cassis, ., The, palate, shows, dried, blue, fruit, ,, cracked, pepper, and, sage, ., Rustic, and, brawny, in, feel, with, firm, tannin, and, full, finishing, notes, ., Very, nice, .]  \n",
       "...                                                                                                                                                                                                                                                                                   ...  \n",
       "39875                                                                                                                                  [Not, bad, ,, but, nothing, special, ., Could, sense, a, bit, of, oak, ., Good, apple, and, melon, flavors, ,, just, nothing, that, stood, out, .]  \n",
       "39957  [Cork, crumbled, and, so, I, had, to, double, decant, via, some, filter, bags, ., Sauternes, colour, ,, and, a, bit, of, fruit, on, the, nose, ., No, denying, the, age, ,, but, there, was, an, earthy, tangerine, taste, ., Dry, on, the, finish, though, ., Just, drinkable, .]  \n",
       "\n",
       "[892 rows x 3 columns]"
      ]
     },
     "execution_count": 187,
     "metadata": {},
     "output_type": "execute_result"
    }
   ],
   "source": [
    "test[test['wine_variant']!=pred]"
   ]
  },
  {
   "cell_type": "code",
   "execution_count": 89,
   "metadata": {},
   "outputs": [
    {
     "data": {
      "text/plain": [
       "{'countvectorizer': CountVectorizer(analyzer=<cyfunction identity at 0x000002CC39B529A0>,\n",
       "         binary=False, decode_error='strict', dtype=<class 'numpy.int64'>,\n",
       "         encoding='utf-8', input='content', lowercase=True, max_df=1.0,\n",
       "         max_features=None, min_df=20, ngram_range=(1, 1),\n",
       "         preprocessor=None, stop_words=None, strip_accents=None,\n",
       "         token_pattern='(?u)\\\\b\\\\w\\\\w+\\\\b', tokenizer=None, vocabulary=None),\n",
       " 'multinomialnb': MultinomialNB(alpha=1.0, class_prior=None, fit_prior=True)}"
      ]
     },
     "execution_count": 89,
     "metadata": {},
     "output_type": "execute_result"
    }
   ],
   "source": [
    "best_nb.named_steps"
   ]
  },
  {
   "cell_type": "code",
   "execution_count": 90,
   "metadata": {},
   "outputs": [
    {
     "data": {
      "text/plain": [
       "array(['Cabernet Sauvignon', 'Chardonnay', 'Merlot', 'Sauvignon Blanc'],\n",
       "      dtype='<U18')"
      ]
     },
     "execution_count": 90,
     "metadata": {},
     "output_type": "execute_result"
    }
   ],
   "source": [
    "best_nb.named_steps['multinomialnb'].classes_"
   ]
  },
  {
   "cell_type": "code",
   "execution_count": 200,
   "metadata": {},
   "outputs": [
    {
     "data": {
      "text/plain": [
       "array([[ -7.54870512,  -6.00616144,  -6.60485644, ..., -12.46136   ,\n",
       "        -12.46136   , -11.20859704],\n",
       "       [ -7.54987334,  -6.23157633,  -6.60607596, ..., -10.24211293,\n",
       "        -10.43626895, -10.51037692],\n",
       "       [ -7.61081816,  -6.19412632,  -6.54143551, ..., -12.00526731,\n",
       "        -12.00526731, -10.53893024],\n",
       "       [ -8.15311104,  -6.16173851,  -6.53134631, ...,  -9.71708658,\n",
       "         -9.20626095,  -9.10090044]])"
      ]
     },
     "execution_count": 200,
     "metadata": {},
     "output_type": "execute_result"
    }
   ],
   "source": [
    "best_nb.named_steps['multinomialnb'].coef_"
   ]
  },
  {
   "cell_type": "code",
   "execution_count": 201,
   "metadata": {},
   "outputs": [
    {
     "data": {
      "text/plain": [
       "array([2165, 2507,  246, ..., 1129,   19,   24], dtype=int64)"
      ]
     },
     "execution_count": 201,
     "metadata": {},
     "output_type": "execute_result"
    }
   ],
   "source": [
    "np.argsort(best_nb.named_steps['multinomialnb'].coef_[0])"
   ]
  },
  {
   "cell_type": "code",
   "execution_count": 202,
   "metadata": {},
   "outputs": [],
   "source": [
    "X = np.array(best_nb.named_steps['countvectorizer'].get_feature_names())\n",
    "terms = X[np.argsort(best_nb.named_steps['multinomialnb'].coef_[0])]"
   ]
  },
  {
   "cell_type": "markdown",
   "metadata": {},
   "source": [
    "Based on those keywords, the terms that classifies negative are quite neutral or grammar words, such as 'I', 'of', 'the', 'and', etc.\n",
    "This tells the performance could be improved by tagging grammar entitires and make the classifier ignore those terms."
   ]
  },
  {
   "cell_type": "code",
   "execution_count": 203,
   "metadata": {
    "scrolled": true
   },
   "outputs": [
    {
     "data": {
      "text/plain": [
       "(array(['little', 'years', 'an', 'bit', 'A', 'have', 'cherry', 'had', \"'s\",\n",
       "        'red', 'oak', 'well', 'nice', 'black', 'as', 'This', 'The', 'good',\n",
       "        'palate', 'bottle', 'more', 'at', 'some', 'dark', 'very', 'not',\n",
       "        'that', 'tannins', 'finish', 'nose', 'for', '-', 'was', 'in', 'on',\n",
       "        'is', 'fruit', 'this', 'it', 'wine', 'but', 'I', 'to', 'with',\n",
       "        'of', 'a', 'the', 'and', ',', '.'], dtype='<U23'),\n",
       " array(['golden', 'limes', 'Burgundian', 'guava', 'Fevre', 'Lemons',\n",
       "        'citric', 'citris', 'chards', 'lemony', 'lemons', 'citrusy',\n",
       "        'clams', 'porch', 'stonefruit', 'Bourgogne', 'cleansing',\n",
       "        'citrussy', 'Lemony', 'chardonnays', 'chard', 'butteriness',\n",
       "        'Pears', 'tangerine', 'Pear', 'Peach', 'mandarin', 'sb',\n",
       "        'Leflaive', 'cantaloupe', 'sushi', 'Paloma', 'Pale', 'fatter',\n",
       "        'chablis', 'Aubert', 'Butterscotch', 'scallops', 'pith', 'steely',\n",
       "        'colder', 'Grass', 'smith', 'honeyed', 'Meursault', 'quince',\n",
       "        'honeydew', 'Melon', 'Minerality', 'Gold'], dtype='<U23'))"
      ]
     },
     "execution_count": 203,
     "metadata": {},
     "output_type": "execute_result"
    }
   ],
   "source": [
    "terms[-50:], terms[:50]"
   ]
  },
  {
   "cell_type": "code",
   "execution_count": 96,
   "metadata": {},
   "outputs": [
    {
     "data": {
      "text/plain": [
       "array([[3.72940034e-01, 2.58585585e-09, 6.27059964e-01, 3.30214261e-11],\n",
       "       [9.99997818e-01, 6.60885936e-21, 2.18244606e-06, 6.50258718e-25],\n",
       "       [9.87884720e-01, 8.03260777e-08, 1.21151972e-02, 2.90921936e-09],\n",
       "       ...,\n",
       "       [4.99173484e-10, 7.13218814e-04, 1.57281681e-09, 9.99286779e-01],\n",
       "       [1.19379508e-15, 6.79010623e-07, 5.47998766e-14, 9.99999321e-01],\n",
       "       [2.47513294e-07, 1.49398557e-03, 6.13927235e-07, 9.98505153e-01]])"
      ]
     },
     "execution_count": 96,
     "metadata": {},
     "output_type": "execute_result"
    }
   ],
   "source": [
    "best_nb.predict_proba(test['tokens'])"
   ]
  },
  {
   "cell_type": "code",
   "execution_count": 97,
   "metadata": {},
   "outputs": [],
   "source": [
    "cab = best_nb.predict_proba(test['tokens'])[:,0]"
   ]
  },
  {
   "cell_type": "code",
   "execution_count": null,
   "metadata": {},
   "outputs": [],
   "source": [
    "test['cab'] = cab"
   ]
  },
  {
   "cell_type": "code",
   "execution_count": null,
   "metadata": {},
   "outputs": [],
   "source": [
    "test[abs(test['cab']-0.0) > 0.5]"
   ]
  },
  {
   "cell_type": "markdown",
   "metadata": {},
   "source": [
    "Based on the error analysis, I found out some errors with high confidence classified as 'Carbernet Sauvignon' are just as ambiguous to me.\n",
    "In my opinion, those 'ambiguous reviews' are better left to be ambiguous, or trying to fit those could lead to over-fitting.\n",
    "This time, I tried 'MultinomialNB' with 'TfidfTransformer.'"
   ]
  },
  {
   "cell_type": "code",
   "execution_count": 108,
   "metadata": {},
   "outputs": [],
   "source": [
    "best_tf = make_pipeline(CountVectorizer(analyzer=identity),\n",
    "                        TfidfTransformer(),\n",
    "                        MultinomialNB())"
   ]
  },
  {
   "cell_type": "code",
   "execution_count": 111,
   "metadata": {},
   "outputs": [
    {
     "name": "stdout",
     "output_type": "stream",
     "text": [
      "Fitting 10 folds for each of 25 candidates, totalling 250 fits\n"
     ]
    },
    {
     "name": "stderr",
     "output_type": "stream",
     "text": [
      "[Parallel(n_jobs=-1)]: Using backend LokyBackend with 4 concurrent workers.\n",
      "[Parallel(n_jobs=-1)]: Done  42 tasks      | elapsed:  2.0min\n",
      "[Parallel(n_jobs=-1)]: Done 192 tasks      | elapsed: 10.4min\n",
      "[Parallel(n_jobs=-1)]: Done 250 out of 250 | elapsed: 13.9min finished\n"
     ]
    },
    {
     "name": "stdout",
     "output_type": "stream",
     "text": [
      "Wall time: 13min 57s\n"
     ]
    }
   ],
   "source": [
    "%%time\n",
    "params = {'countvectorizer__min_df':[0.5, 1, 10, 20, 50],\n",
    "          'multinomialnb__alpha':[0.01, 0.1, 0.5, 1.0, 2.0]}\n",
    "grid_search = GridSearchCV(best_nb, params, n_jobs=-1, verbose=1, cv=folds, return_train_score=True)\n",
    "grid_search.fit(df['tokens'], df['wine_variant'])"
   ]
  },
  {
   "cell_type": "code",
   "execution_count": 112,
   "metadata": {},
   "outputs": [
    {
     "data": {
      "text/plain": [
       "{'countvectorizer__min_df': 20, 'multinomialnb__alpha': 1.0}"
      ]
     },
     "execution_count": 112,
     "metadata": {},
     "output_type": "execute_result"
    }
   ],
   "source": [
    "grid_search.best_params_"
   ]
  },
  {
   "cell_type": "code",
   "execution_count": 113,
   "metadata": {},
   "outputs": [
    {
     "data": {
      "text/plain": [
       "(0.766825, 0.006203879834426211)"
      ]
     },
     "execution_count": 113,
     "metadata": {},
     "output_type": "execute_result"
    }
   ],
   "source": [
    "best_tf = make_pipeline(CountVectorizer(analyzer=identity, min_df=20),\n",
    "                        TfidfTransformer(),\n",
    "                        MultinomialNB(alpha=1.0))\n",
    "score = cross_val_score(best_tf, df['tokens'], df['wine_variant'], cv=folds, n_jobs=-1)\n",
    "score.mean(), score.std()"
   ]
  },
  {
   "cell_type": "code",
   "execution_count": 116,
   "metadata": {},
   "outputs": [],
   "source": [
    "best_tf = make_pipeline(CountVectorizer(analyzer=identity, ngram_range=(1,2), binary=True),\n",
    "                        TfidfTransformer(), \n",
    "                        MultinomialNB())"
   ]
  },
  {
   "cell_type": "code",
   "execution_count": 117,
   "metadata": {},
   "outputs": [
    {
     "name": "stdout",
     "output_type": "stream",
     "text": [
      "Fitting 10 folds for each of 25 candidates, totalling 250 fits\n"
     ]
    },
    {
     "name": "stderr",
     "output_type": "stream",
     "text": [
      "[Parallel(n_jobs=-1)]: Using backend LokyBackend with 4 concurrent workers.\n",
      "[Parallel(n_jobs=-1)]: Done  42 tasks      | elapsed:  3.1min\n",
      "[Parallel(n_jobs=-1)]: Done 192 tasks      | elapsed: 14.6min\n",
      "[Parallel(n_jobs=-1)]: Done 250 out of 250 | elapsed: 19.0min finished\n"
     ]
    },
    {
     "name": "stdout",
     "output_type": "stream",
     "text": [
      "Wall time: 19min 2s\n"
     ]
    }
   ],
   "source": [
    "%%time\n",
    "params = {'countvectorizer__min_df':[0.5, 1, 10, 20, 50],\n",
    "          'multinomialnb__alpha':[0.01, 0.1, 0.5, 1.0, 2.0]}\n",
    "grid_search = GridSearchCV(best_nb, params, n_jobs=-1, verbose=1, cv=folds, return_train_score=True)\n",
    "grid_search.fit(df['tokens'], df['wine_variant'])"
   ]
  },
  {
   "cell_type": "code",
   "execution_count": 118,
   "metadata": {},
   "outputs": [
    {
     "data": {
      "text/plain": [
       "{'countvectorizer__min_df': 20, 'multinomialnb__alpha': 1.0}"
      ]
     },
     "execution_count": 118,
     "metadata": {},
     "output_type": "execute_result"
    }
   ],
   "source": [
    "grid_search.best_params_"
   ]
  },
  {
   "cell_type": "code",
   "execution_count": 119,
   "metadata": {},
   "outputs": [
    {
     "data": {
      "text/plain": [
       "(0.76495, 0.006862761834713475)"
      ]
     },
     "execution_count": 119,
     "metadata": {},
     "output_type": "execute_result"
    }
   ],
   "source": [
    "best_tf = make_pipeline(CountVectorizer(analyzer=identity, ngram_range=(1,2), binary=True, min_df=20),\n",
    "                        TfidfTransformer(), \n",
    "                        MultinomialNB(alpha=1.0))\n",
    "score = cross_val_score(best_tf, df['tokens'], df['wine_variant'], cv=folds, n_jobs=-1)\n",
    "score.mean(), score.std()"
   ]
  },
  {
   "cell_type": "code",
   "execution_count": 120,
   "metadata": {},
   "outputs": [],
   "source": [
    "itrain, itest = first(folds.split(df['tokens'], \n",
    "                                  df['wine_variant']))\n",
    "train = df.iloc[itrain]\n",
    "test = df.iloc[itest]"
   ]
  },
  {
   "cell_type": "code",
   "execution_count": 122,
   "metadata": {},
   "outputs": [],
   "source": [
    "best_tf.fit(train['tokens'], train['wine_variant'])\n",
    "pred = best_tf.predict(test['tokens'])"
   ]
  },
  {
   "cell_type": "code",
   "execution_count": 123,
   "metadata": {
    "scrolled": true
   },
   "outputs": [
    {
     "data": {
      "text/plain": [
       "array([[692,  16, 287,   5],\n",
       "       [ 42, 818,  27, 113],\n",
       "       [250,   9, 730,  11],\n",
       "       [ 19, 121,  16, 844]], dtype=int64)"
      ]
     },
     "execution_count": 123,
     "metadata": {},
     "output_type": "execute_result"
    }
   ],
   "source": [
    "confusion_matrix(test['wine_variant'], pred)"
   ]
  },
  {
   "cell_type": "code",
   "execution_count": 166,
   "metadata": {},
   "outputs": [
    {
     "data": {
      "image/png": "[encoded data removed]",
      "text/plain": [
       "<Figure size 432x288 with 2 Axes>"
      ]
     },
     "metadata": {
      "needs_background": "light"
     },
     "output_type": "display_data"
    }
   ],
   "source": [
    "plot_cm(test['wine_variant'], pred)"
   ]
  },
  {
   "cell_type": "code",
   "execution_count": 127,
   "metadata": {},
   "outputs": [
    {
     "data": {
      "text/plain": [
       "{'countvectorizer': CountVectorizer(analyzer=<cyfunction identity at 0x000002CC39B529A0>,\n",
       "         binary=True, decode_error='strict', dtype=<class 'numpy.int64'>,\n",
       "         encoding='utf-8', input='content', lowercase=True, max_df=1.0,\n",
       "         max_features=None, min_df=20, ngram_range=(1, 2),\n",
       "         preprocessor=None, stop_words=None, strip_accents=None,\n",
       "         token_pattern='(?u)\\\\b\\\\w\\\\w+\\\\b', tokenizer=None, vocabulary=None),\n",
       " 'tfidftransformer': TfidfTransformer(norm='l2', smooth_idf=True, sublinear_tf=False, use_idf=True),\n",
       " 'multinomialnb': MultinomialNB(alpha=1.0, class_prior=None, fit_prior=True)}"
      ]
     },
     "execution_count": 127,
     "metadata": {},
     "output_type": "execute_result"
    }
   ],
   "source": [
    "best_tf.named_steps"
   ]
  },
  {
   "cell_type": "markdown",
   "metadata": {},
   "source": [
    "At this moment, I combined all terms in all 4 class"
   ]
  },
  {
   "cell_type": "code",
   "execution_count": 151,
   "metadata": {},
   "outputs": [],
   "source": [
    "X = np.array(best_tf.named_steps['countvectorizer'].get_feature_names())\n",
    "terms_carb = X[np.argsort(best_tf.named_steps['multinomialnb'].coef_[0])]\n",
    "terms_char = X[np.argsort(best_tf.named_steps['multinomialnb'].coef_[1])]\n",
    "terms_merl = X[np.argsort(best_tf.named_steps['multinomialnb'].coef_[2])]\n",
    "terms_blan = X[np.argsort(best_tf.named_steps['multinomialnb'].coef_[3])]"
   ]
  },
  {
   "cell_type": "code",
   "execution_count": 152,
   "metadata": {},
   "outputs": [],
   "source": [
    "terms_combined = np.array([terms_carb,terms_char,terms_merl,terms_blan])"
   ]
  },
  {
   "cell_type": "code",
   "execution_count": 159,
   "metadata": {
    "scrolled": true
   },
   "outputs": [
    {
     "data": {
      "text/plain": [
       "(array(['Fume', 'piercing', 'citrussy', ..., ',', 'and', '.'], dtype='<U23'),\n",
       " array(['aerator', 'Duckhorn', 'bricking', ..., 'and', ',', '.'],\n",
       "       dtype='<U23'),\n",
       " array(['pesto', 'Meyer', 'Meursault', ..., ',', 'and', '.'], dtype='<U23'),\n",
       " array(['tenderloin', 'Toasty', 'haul', ..., ',', 'and', '.'], dtype='<U23'))"
      ]
     },
     "execution_count": 159,
     "metadata": {},
     "output_type": "execute_result"
    }
   ],
   "source": [
    "terms_carb, terms_char, terms_merl, terms_blan"
   ]
  },
  {
   "cell_type": "code",
   "execution_count": 181,
   "metadata": {},
   "outputs": [
    {
     "data": {
      "text/plain": [
       "array(['had', 'still', 'color', 'A', 'The', 'Very', 'cassis', 'now',\n",
       "       'years', 'oak', 'This', 'red', 'well', 'that', 'nice', 'cherry',\n",
       "       'palate', 'some', 'more', 'good', 'at', 'cab', 'bottle', 'not',\n",
       "       'very', 'black', '-', 'is', 'was', 'dark', 'in', 'on', 'I', 'it',\n",
       "       'nose', 'for', 'finish', 'this', 'to', 'wine', 'but', 'tannins',\n",
       "       'of', 'with', 'fruit', 'the', 'a', ',', 'and', '.'], dtype='<U23')"
      ]
     },
     "execution_count": 181,
     "metadata": {},
     "output_type": "execute_result"
    }
   ],
   "source": [
    "terms_carb[-50:]"
   ]
  },
  {
   "cell_type": "code",
   "execution_count": 161,
   "metadata": {},
   "outputs": [],
   "source": [
    "carb = best_tf.predict_proba(test['tokens'])[:,0]\n",
    "char = best_tf.predict_proba(test['tokens'])[:,1]\n",
    "merl = best_tf.predict_proba(test['tokens'])[:,2]\n",
    "blan = best_tf.predict_proba(test['tokens'])[:,3]"
   ]
  },
  {
   "cell_type": "code",
   "execution_count": 163,
   "metadata": {},
   "outputs": [
    {
     "name": "stderr",
     "output_type": "stream",
     "text": [
      "C:\\Users\\Glen\\Anaconda3\\lib\\site-packages\\ipykernel_launcher.py:1: SettingWithCopyWarning: \n",
      "A value is trying to be set on a copy of a slice from a DataFrame.\n",
      "Try using .loc[row_indexer,col_indexer] = value instead\n",
      "\n",
      "See the caveats in the documentation: http://pandas.pydata.org/pandas-docs/stable/indexing.html#indexing-view-versus-copy\n",
      "  \"\"\"Entry point for launching an IPython kernel.\n",
      "C:\\Users\\Glen\\Anaconda3\\lib\\site-packages\\ipykernel_launcher.py:2: SettingWithCopyWarning: \n",
      "A value is trying to be set on a copy of a slice from a DataFrame.\n",
      "Try using .loc[row_indexer,col_indexer] = value instead\n",
      "\n",
      "See the caveats in the documentation: http://pandas.pydata.org/pandas-docs/stable/indexing.html#indexing-view-versus-copy\n",
      "  \n",
      "C:\\Users\\Glen\\Anaconda3\\lib\\site-packages\\ipykernel_launcher.py:3: SettingWithCopyWarning: \n",
      "A value is trying to be set on a copy of a slice from a DataFrame.\n",
      "Try using .loc[row_indexer,col_indexer] = value instead\n",
      "\n",
      "See the caveats in the documentation: http://pandas.pydata.org/pandas-docs/stable/indexing.html#indexing-view-versus-copy\n",
      "  This is separate from the ipykernel package so we can avoid doing imports until\n",
      "C:\\Users\\Glen\\Anaconda3\\lib\\site-packages\\ipykernel_launcher.py:4: SettingWithCopyWarning: \n",
      "A value is trying to be set on a copy of a slice from a DataFrame.\n",
      "Try using .loc[row_indexer,col_indexer] = value instead\n",
      "\n",
      "See the caveats in the documentation: http://pandas.pydata.org/pandas-docs/stable/indexing.html#indexing-view-versus-copy\n",
      "  after removing the cwd from sys.path.\n"
     ]
    }
   ],
   "source": [
    "test['carb'] = carb\n",
    "test['char'] = char\n",
    "test['merl'] = merl\n",
    "test['blan'] = blan"
   ]
  },
  {
   "cell_type": "code",
   "execution_count": 164,
   "metadata": {},
   "outputs": [
    {
     "data": {
      "text/html": [
       "<div>\n",
       "<style scoped>\n",
       "    .dataframe tbody tr th:only-of-type {\n",
       "        vertical-align: middle;\n",
       "    }\n",
       "\n",
       "    .dataframe tbody tr th {\n",
       "        vertical-align: top;\n",
       "    }\n",
       "\n",
       "    .dataframe thead th {\n",
       "        text-align: right;\n",
       "    }\n",
       "</style>\n",
       "<table border=\"1\" class=\"dataframe\">\n",
       "  <thead>\n",
       "    <tr style=\"text-align: right;\">\n",
       "      <th></th>\n",
       "      <th>wine_variant</th>\n",
       "      <th>review_text</th>\n",
       "      <th>tokens</th>\n",
       "      <th>carb</th>\n",
       "      <th>char</th>\n",
       "      <th>merl</th>\n",
       "      <th>blan</th>\n",
       "    </tr>\n",
       "  </thead>\n",
       "  <tbody>\n",
       "    <tr>\n",
       "      <th>8</th>\n",
       "      <td>Cabernet Sauvignon</td>\n",
       "      <td>Sweet red fruits and still a bit of tannins, but everything is well integrated in this wine. It has some real nice cherry flavors and a hint of tobacco. The finish is smooth and silky.</td>\n",
       "      <td>[Sweet, red, fruits, and, still, a, bit, of, tannins, ,, but, everything, is, well, integrated, in, this, wine, ., It, has, some, real, nice, cherry, flavors, and, a, hint, of, tobacco, ., The, finish, is, smooth, and, silky, .]</td>\n",
       "      <td>0.477312</td>\n",
       "      <td>0.011601</td>\n",
       "      <td>0.505560</td>\n",
       "      <td>0.005526</td>\n",
       "    </tr>\n",
       "    <tr>\n",
       "      <th>32</th>\n",
       "      <td>Cabernet Sauvignon</td>\n",
       "      <td>When I bought this 9 years ago, I commented that it was extremely tannic and would take years to evolve. Jancis Robinsonm and I agreed that the 94 Napa vintage required patience. I thought 14 years would do. It needs more time. I double decanted in the morning. At dinner at Prime 112, it was still austere, so we used the Vinturi aerator and it finally began to reveal itself. Classic Medoc styled Cab with brooding cassis graphite palate.If you want to drink it, either decant for several hours...</td>\n",
       "      <td>[When, I, bought, this, 9, years, ago, ,, I, commented, that, it, was, extremely, tannic, and, would, take, years, to, evolve, ., Jancis, Robinsonm, and, I, agreed, that, the, 94, Napa, vintage, required, patience, ., I, thought, 14, years, would, do, ., It, needs, more, time, ., I, double, decanted, in, the, morning, ., At, dinner, at, Prime, 112, ,, it, was, still, austere, ,, so, we, used, the, Vinturi, aerator, and, it, finally, began, to, reveal, itself, ., Classic, Medoc, styled, Cab, ...</td>\n",
       "      <td>0.802589</td>\n",
       "      <td>0.011081</td>\n",
       "      <td>0.181684</td>\n",
       "      <td>0.004646</td>\n",
       "    </tr>\n",
       "    <tr>\n",
       "      <th>126</th>\n",
       "      <td>Cabernet Sauvignon</td>\n",
       "      <td>dark ruby and plenty of \"terrior\", nose is a bit earthy...must decant for at least 1 hour. after it opened up, it mellowed nicely and became very drinkable</td>\n",
       "      <td>[dark, ruby, and, plenty, of, \", terrior, \", ,, nose, is, a, bit, earthy, ..., must, decant, for, at, least, 1, hour, ., after, it, opened, up, ,, it, mellowed, nicely, and, became, very, drinkable]</td>\n",
       "      <td>0.532233</td>\n",
       "      <td>0.012266</td>\n",
       "      <td>0.447622</td>\n",
       "      <td>0.007879</td>\n",
       "    </tr>\n",
       "    <tr>\n",
       "      <th>129</th>\n",
       "      <td>Cabernet Sauvignon</td>\n",
       "      <td>Tasted at vertical Chateau Montelena tasting at the home of Amy Weinberg.  Bright disc.  Opaque ruby with red rim.  Clean nose, showing moderately intense currants, cherry, plum and mint.  Medium to full-bodied on the palate, with medium sweet tannins and similar flavors as for the nose.  Long, smooth finish.  This wine is showing a very youthful face for an '86.  Should continue to improve.</td>\n",
       "      <td>[Tasted, at, vertical, Chateau, Montelena, tasting, at, the, home, of, Amy, Weinberg, .,  , Bright, disc, .,  , Opaque, ruby, with, red, rim, .,  , Clean, nose, ,, showing, moderately, intense, currants, ,, cherry, ,, plum, and, mint, .,  , Medium, to, full, -, bodied, on, the, palate, ,, with, medium, sweet, tannins, and, similar, flavors, as, for, the, nose, .,  , Long, ,, smooth, finish, .,  , This, wine, is, showing, a, very, youthful, face, for, an, ', 86, .,  , Should, continue, to, im...</td>\n",
       "      <td>0.742251</td>\n",
       "      <td>0.014967</td>\n",
       "      <td>0.237951</td>\n",
       "      <td>0.004831</td>\n",
       "    </tr>\n",
       "    <tr>\n",
       "      <th>131</th>\n",
       "      <td>Cabernet Sauvignon</td>\n",
       "      <td>Begins with blueberry, bitter chocolate and cassis. The palate shows dried blue fruit, cracked pepper and sage. Rustic and brawny in feel with firm tannin and full finishing notes. Very nice.</td>\n",
       "      <td>[Begins, with, blueberry, ,, bitter, chocolate, and, cassis, ., The, palate, shows, dried, blue, fruit, ,, cracked, pepper, and, sage, ., Rustic, and, brawny, in, feel, with, firm, tannin, and, full, finishing, notes, ., Very, nice, .]</td>\n",
       "      <td>0.461282</td>\n",
       "      <td>0.003795</td>\n",
       "      <td>0.527067</td>\n",
       "      <td>0.007857</td>\n",
       "    </tr>\n",
       "    <tr>\n",
       "      <th>145</th>\n",
       "      <td>Cabernet Sauvignon</td>\n",
       "      <td>Although this was a great wine, it was definitely way too young to drink, and could sit in the bottle for at least another 10 years an be absolutely incredible. Purchased this down in Lavalette, NJ this weekend while visiting Todd &amp; Michelle's beach house. Gorgeous fragrances right as the bottle was opened, and you could really smell this wine. This was put back into the cellar for a few hours while we drank the previous whites, and it really opened up overtime. Nice hints of blackberry, dar...</td>\n",
       "      <td>[Although, this, was, a, great, wine, ,, it, was, definitely, way, too, young, to, drink, ,, and, could, sit, in, the, bottle, for, at, least, another, 10, years, an, be, absolutely, incredible, ., Purchased, this, down, in, Lavalette, ,, NJ, this, weekend, while, visiting, Todd, &amp;, Michelle, 's, beach, house, ., Gorgeous, fragrances, right, as, the, bottle, was, opened, ,, and, you, could, really, smell, this, wine, ., This, was, put, back, into, the, cellar, for, a, few, hours, while, we, ...</td>\n",
       "      <td>0.610393</td>\n",
       "      <td>0.015528</td>\n",
       "      <td>0.369981</td>\n",
       "      <td>0.004098</td>\n",
       "    </tr>\n",
       "    <tr>\n",
       "      <th>176</th>\n",
       "      <td>Cabernet Sauvignon</td>\n",
       "      <td>Dark ruby color; maturing, tart cassis nose; tart cassis, ripe currant palate; needs 2-3 years; medium-plus finish (w/1% Petit Verdot)</td>\n",
       "      <td>[Dark, ruby, color, ;, maturing, ,, tart, cassis, nose, ;, tart, cassis, ,, ripe, currant, palate, ;, needs, 2, -, 3, years, ;, medium, -, plus, finish, (, w/1, %, Petit, Verdot, )]</td>\n",
       "      <td>0.729250</td>\n",
       "      <td>0.010732</td>\n",
       "      <td>0.252935</td>\n",
       "      <td>0.007084</td>\n",
       "    </tr>\n",
       "    <tr>\n",
       "      <th>192</th>\n",
       "      <td>Cabernet Sauvignon</td>\n",
       "      <td>A dark,inky cabernet with a great nose with a fruit forward on the pallet. The first impression is chocolate followed by a smooth cherry giving way to a hint of cranberry. I notice that 2006 FH Cab is well balanced with a little bit of tannin in the end eliciting some chewiness. This is yummy juice for the price that will average around $25.00 per bottle and comes from one of those small boutique vineyads in oakville.</td>\n",
       "      <td>[A, dark, ,, inky, cabernet, with, a, great, nose, with, a, fruit, forward, on, the, pallet, ., The, first, impression, is, chocolate, followed, by, a, smooth, cherry, giving, way, to, a, hint, of, cranberry, ., I, notice, that, 2006, FH, Cab, is, well, balanced, with, a, little, bit, of, tannin, in, the, end, eliciting, some, chewiness, ., This, is, yummy, juice, for, the, price, that, will, average, around, $, 25.00, per, bottle, and, comes, from, one, of, those, small, boutique, vineyads,...</td>\n",
       "      <td>0.521214</td>\n",
       "      <td>0.010502</td>\n",
       "      <td>0.462120</td>\n",
       "      <td>0.006165</td>\n",
       "    </tr>\n",
       "    <tr>\n",
       "      <th>278</th>\n",
       "      <td>Cabernet Sauvignon</td>\n",
       "      <td>Very lovely aged Cab. Flowery nose of red fruits and eucalyptus. Flavors similar, with cherry but almost pie-cherry fruit nicely mingled with cedar, light tar and black olive although those \"old-cab\" flavors still taste good because of that cherry fruit and great balance. I had the 1st glass blind and assumed it was a few years older and by the time we finished the bottle, as good as it was, I feel it's aging a tad faster than one might want so I think it's time to drink.</td>\n",
       "      <td>[Very, lovely, aged, Cab, ., Flowery, nose, of, red, fruits, and, eucalyptus, ., Flavors, similar, ,, with, cherry, but, almost, pie, -, cherry, fruit, nicely, mingled, with, cedar, ,, light, tar, and, black, olive, although, those, \", old, -, cab, \", flavors, still, taste, good, because, of, that, cherry, fruit, and, great, balance, ., I, had, the, 1st, glass, blind, and, assumed, it, was, a, few, years, older, and, by, the, time, we, finished, the, bottle, ,, as, good, as, it, was, ,, I, f...</td>\n",
       "      <td>0.649497</td>\n",
       "      <td>0.012266</td>\n",
       "      <td>0.333772</td>\n",
       "      <td>0.004464</td>\n",
       "    </tr>\n",
       "    <tr>\n",
       "      <th>408</th>\n",
       "      <td>Cabernet Sauvignon</td>\n",
       "      <td>Popped and tasted immediately. The nose hold strong scents of oak, black fruit, and lighter scents of eucalyptus, lavender, lilacs, and caramel. In the mouth flavors of blackberry transition to blueberry pie, bakers chocolate, mocha, and light cedar notes. At this point in time the finish is about 30 seconds long. It's powerful while still delicate...and that's what I really love about these Teachworth Cabs. More to follow after a 4 hour decant...I'm bringing this to a dinner tonight in my d...</td>\n",
       "      <td>[Popped, and, tasted, immediately, ., The, nose, hold, strong, scents, of, oak, ,, black, fruit, ,, and, lighter, scents, of, eucalyptus, ,, lavender, ,, lilacs, ,, and, caramel, ., In, the, mouth, flavors, of, blackberry, transition, to, blueberry, pie, ,, bakers, chocolate, ,, mocha, ,, and, light, cedar, notes, ., At, this, point, in, time, the, finish, is, about, 30, seconds, long, ., It, 's, powerful, while, still, delicate, ..., and, that, 's, what, I, really, love, about, these, Teach...</td>\n",
       "      <td>0.676186</td>\n",
       "      <td>0.005954</td>\n",
       "      <td>0.315731</td>\n",
       "      <td>0.002128</td>\n",
       "    </tr>\n",
       "    <tr>\n",
       "      <th>427</th>\n",
       "      <td>Cabernet Sauvignon</td>\n",
       "      <td>odd funk of blood and herbs. silky smooth texture. medium bodied. toasted cherries, no holes, good structure, copious ripe tannins, and a long finish. its a good cab.</td>\n",
       "      <td>[odd, funk, of, blood, and, herbs, ., silky, smooth, texture, ., medium, bodied, ., toasted, cherries, ,, no, holes, ,, good, structure, ,, copious, ripe, tannins, ,, and, a, long, finish, ., its, a, good, cab, .]</td>\n",
       "      <td>0.513032</td>\n",
       "      <td>0.026754</td>\n",
       "      <td>0.452456</td>\n",
       "      <td>0.007758</td>\n",
       "    </tr>\n",
       "    <tr>\n",
       "      <th>542</th>\n",
       "      <td>Cabernet Sauvignon</td>\n",
       "      <td>Deep dark fruit, nothing left on the vine. Low yields are evident in the concentrated flavors of blackberry, black cherry, cassis, with oak notes. The tannins are so well structured and with such power and finish that one is singularly focused on drinking this wine. Teeth stainer you wear with pride and a great memory. Lot's of life to go. No decanting necessary, this evolves in the bottle and delicious from the moment opened.</td>\n",
       "      <td>[Deep, dark, fruit, ,, nothing, left, on, the, vine, ., Low, yields, are, evident, in, the, concentrated, flavors, of, blackberry, ,, black, cherry, ,, cassis, ,, with, oak, notes, ., The, tannins, are, so, well, structured, and, with, such, power, and, finish, that, one, is, singularly, focused, on, drinking, this, wine, ., Teeth, stainer, you, wear, with, pride, and, a, great, memory, ., Lot, 's, of, life, to, go, ., No, decanting, necessary, ,, this, evolves, in, the, bottle, and, delicio...</td>\n",
       "      <td>0.627599</td>\n",
       "      <td>0.018475</td>\n",
       "      <td>0.349205</td>\n",
       "      <td>0.004721</td>\n",
       "    </tr>\n",
       "    <tr>\n",
       "      <th>601</th>\n",
       "      <td>Cabernet Sauvignon</td>\n",
       "      <td>Big and bold oak is right!!! Very sweet with new American Oak, and ripe cassis and dark fruits. At this early stage, I think I am going to prefer the 2001 over the 1997. It is curious if the fruit, tannins and oak will balance out over time, but right now it is a true OAK bomb!! Rated 91 currently withpotential rating of 93.</td>\n",
       "      <td>[Big, and, bold, oak, is, right, !, !, !, Very, sweet, with, new, American, Oak, ,, and, ripe, cassis, and, dark, fruits, ., At, this, early, stage, ,, I, think, I, am, going, to, prefer, the, 2001, over, the, 1997, ., It, is, curious, if, the, fruit, ,, tannins, and, oak, will, balance, out, over, time, ,, but, right, now, it, is, a, true, OAK, bomb, !, !, Rated, 91, currently, withpotential, rating, of, 93, .]</td>\n",
       "      <td>0.554670</td>\n",
       "      <td>0.045649</td>\n",
       "      <td>0.392942</td>\n",
       "      <td>0.006739</td>\n",
       "    </tr>\n",
       "    <tr>\n",
       "      <th>620</th>\n",
       "      <td>Cabernet Sauvignon</td>\n",
       "      <td>not a great wine but drinkable. The nose is subdued after 2 hours, with mostly cocoa and mocha . The wine did devekp and the alcohol subsided after a few hours, but not a WOW type of wine. Black with ruby rim, very little fruit</td>\n",
       "      <td>[not, a, great, wine, but, drinkable, ., The, nose, is, subdued, after, 2, hours, ,, with, mostly, cocoa, and, mocha, ., The, wine, did, devekp, and, the, alcohol, subsided, after, a, few, hours, ,, but, not, a, WOW, type, of, wine, ., Black, with, ruby, rim, ,, very, little, fruit]</td>\n",
       "      <td>0.450617</td>\n",
       "      <td>0.004697</td>\n",
       "      <td>0.539888</td>\n",
       "      <td>0.004797</td>\n",
       "    </tr>\n",
       "    <tr>\n",
       "      <th>625</th>\n",
       "      <td>Cabernet Sauvignon</td>\n",
       "      <td>The color is a very dark purple, almost opaque. The nose sports a perfume of blackberries a slight blueberry note, cassis, spice, coffee, menthol, vanilla and oak. The wine offers a dense, full bodied, chewy texture. On the palate, the wine displays blackberry liqueur, pepper and black cherry flavors and a long finish. This will age well.</td>\n",
       "      <td>[The, color, is, a, very, dark, purple, ,, almost, opaque, ., The, nose, sports, a, perfume, of, blackberries, a, slight, blueberry, note, ,, cassis, ,, spice, ,, coffee, ,, menthol, ,, vanilla, and, oak, ., The, wine, offers, a, dense, ,, full, bodied, ,, chewy, texture, ., On, the, palate, ,, the, wine, displays, blackberry, liqueur, ,, pepper, and, black, cherry, flavors, and, a, long, finish, ., This, will, age, well, .]</td>\n",
       "      <td>0.645815</td>\n",
       "      <td>0.000408</td>\n",
       "      <td>0.353624</td>\n",
       "      <td>0.000153</td>\n",
       "    </tr>\n",
       "    <tr>\n",
       "      <th>640</th>\n",
       "      <td>Cabernet Sauvignon</td>\n",
       "      <td>Decanted for an hour-which is essential. Wine is smooth with dense tobacco and heavy oak, dark fruit is present but subtle mid palate. Pair with hearty foods.</td>\n",
       "      <td>[Decanted, for, an, hour, -, which, is, essential, ., Wine, is, smooth, with, dense, tobacco, and, heavy, oak, ,, dark, fruit, is, present, but, subtle, mid, palate, ., Pair, with, hearty, foods, .]</td>\n",
       "      <td>0.430058</td>\n",
       "      <td>0.030837</td>\n",
       "      <td>0.531278</td>\n",
       "      <td>0.007826</td>\n",
       "    </tr>\n",
       "    <tr>\n",
       "      <th>674</th>\n",
       "      <td>Cabernet Sauvignon</td>\n",
       "      <td>Popped and poured, intense sweet nose of currants, cassis and vanilla. Rich and intense dark fruit, vanilla and oak on the palate. Still some tannins to shed, balanced and very Californian. 89+</td>\n",
       "      <td>[Popped, and, poured, ,, intense, sweet, nose, of, currants, ,, cassis, and, vanilla, ., Rich, and, intense, dark, fruit, ,, vanilla, and, oak, on, the, palate, ., Still, some, tannins, to, shed, ,, balanced, and, very, Californian, ., 89, +]</td>\n",
       "      <td>0.611604</td>\n",
       "      <td>0.022311</td>\n",
       "      <td>0.359619</td>\n",
       "      <td>0.006467</td>\n",
       "    </tr>\n",
       "    <tr>\n",
       "      <th>692</th>\n",
       "      <td>Cabernet Sauvignon</td>\n",
       "      <td>This wine provides incredible quality and value for a vineyard designated Napa Valley Cabernet Sauvignon, this is their second labeling. It delivers flavors of cassis, cherry and cocoa with aromas of earth, tobacco, leather, and vanilla. Possess great depth and complexity with a 30-40 second finish.</td>\n",
       "      <td>[This, wine, provides, incredible, quality, and, value, for, a, vineyard, designated, Napa, Valley, Cabernet, Sauvignon, ,, this, is, their, second, labeling, ., It, delivers, flavors, of, cassis, ,, cherry, and, cocoa, with, aromas, of, earth, ,, tobacco, ,, leather, ,, and, vanilla, ., Possess, great, depth, and, complexity, with, a, 30, -, 40, second, finish, .]</td>\n",
       "      <td>0.744148</td>\n",
       "      <td>0.003022</td>\n",
       "      <td>0.249343</td>\n",
       "      <td>0.003488</td>\n",
       "    </tr>\n",
       "    <tr>\n",
       "      <th>757</th>\n",
       "      <td>Cabernet Sauvignon</td>\n",
       "      <td>Dark plum, berry jam, dried blueberries, vanilla, cocoa, pepper, even hints of jalapeno and bell peppers, and cabbage. full bodied, lush mouthfeel, balance dark spicy fruit with a veggie note and ripe chewy tannins.</td>\n",
       "      <td>[Dark, plum, ,, berry, jam, ,, dried, blueberries, ,, vanilla, ,, cocoa, ,, pepper, ,, even, hints, of, jalapeno, and, bell, peppers, ,, and, cabbage, ., full, bodied, ,, lush, mouthfeel, ,, balance, dark, spicy, fruit, with, a, veggie, note, and, ripe, chewy, tannins, .]</td>\n",
       "      <td>0.454052</td>\n",
       "      <td>0.000649</td>\n",
       "      <td>0.543860</td>\n",
       "      <td>0.001439</td>\n",
       "    </tr>\n",
       "    <tr>\n",
       "      <th>831</th>\n",
       "      <td>Cabernet Sauvignon</td>\n",
       "      <td>Huge cab, dominated by dark fruit, with plenty of Howell Mountain grip. It evolved a lot over several hours in the glass. Decant for an hour+ if you plan on popping this baby anytime soon.</td>\n",
       "      <td>[Huge, cab, ,, dominated, by, dark, fruit, ,, with, plenty, of, Howell, Mountain, grip, ., It, evolved, a, lot, over, several, hours, in, the, glass, ., Decant, for, an, hour+, if, you, plan, on, popping, this, baby, anytime, soon, .]</td>\n",
       "      <td>0.797797</td>\n",
       "      <td>0.021651</td>\n",
       "      <td>0.174873</td>\n",
       "      <td>0.005679</td>\n",
       "    </tr>\n",
       "    <tr>\n",
       "      <th>928</th>\n",
       "      <td>Cabernet Sauvignon</td>\n",
       "      <td>Ruby red, full bodied cab with dense dark fruit, nice tannins with complexity and long satiny finish. A great CA cab. Should age well over the next 10-15 years.</td>\n",
       "      <td>[Ruby, red, ,, full, bodied, cab, with, dense, dark, fruit, ,, nice, tannins, with, complexity, and, long, satiny, finish, ., A, great, CA, cab, ., Should, age, well, over, the, next, 10, -, 15, years, .]</td>\n",
       "      <td>0.640969</td>\n",
       "      <td>0.013039</td>\n",
       "      <td>0.343205</td>\n",
       "      <td>0.002787</td>\n",
       "    </tr>\n",
       "    <tr>\n",
       "      <th>937</th>\n",
       "      <td>Cabernet Sauvignon</td>\n",
       "      <td>Purple color with a complex, mineral-over-vibrant red fruit nose. Excellent aromas. Out of the bottle the palate is tight and tannic. Over time, develops a very interesting profile of plush currant and cassis fruits, tobacco and cedar. This is quite young - only developed medium body weight and plenty of tanninc structure. In 5 years, I'd love this wine.</td>\n",
       "      <td>[Purple, color, with, a, complex, ,, mineral, -, over, -, vibrant, red, fruit, nose, ., Excellent, aromas, ., Out, of, the, bottle, the, palate, is, tight, and, tannic, ., Over, time, ,, develops, a, very, interesting, profile, of, plush, currant, and, cassis, fruits, ,, tobacco, and, cedar, ., This, is, quite, young, -, only, developed, medium, body, weight, and, plenty, of, tanninc, structure, ., In, 5, years, ,, I, 'd, love, this, wine, .]</td>\n",
       "      <td>0.578231</td>\n",
       "      <td>0.015726</td>\n",
       "      <td>0.399474</td>\n",
       "      <td>0.006568</td>\n",
       "    </tr>\n",
       "    <tr>\n",
       "      <th>955</th>\n",
       "      <td>Cabernet Sauvignon</td>\n",
       "      <td>Drank over two days. Blackberry, raspberry, leather, vanilla, hemp, with the slightest hint of green olive and burnt caramel. Red currant, blackberry, mint, roasted thyme, and vanilla palate. Great balance and smooth, fine tannins. Really opened up on the second day. Agree with the recs to let this breathe for a bit before drinking. Still has a few years left.</td>\n",
       "      <td>[Drank, over, two, days, ., Blackberry, ,, raspberry, ,, leather, ,, vanilla, ,, hemp, ,, with, the, slightest, hint, of, green, olive, and, burnt, caramel, ., Red, currant, ,, blackberry, ,, mint, ,, roasted, thyme, ,, and, vanilla, palate, ., Great, balance, and, smooth, ,, fine, tannins, ., Really, opened, up, on, the, second, day, ., Agree, with, the, recs, to, let, this, breathe, for, a, bit, before, drinking, ., Still, has, a, few, years, left, .]</td>\n",
       "      <td>0.531647</td>\n",
       "      <td>0.003462</td>\n",
       "      <td>0.463577</td>\n",
       "      <td>0.001314</td>\n",
       "    </tr>\n",
       "    <tr>\n",
       "      <th>961</th>\n",
       "      <td>Cabernet Sauvignon</td>\n",
       "      <td>A friend brought this, I had not heard of it. I see it can be found for $40 and there is a lot of value for an 07 Napa Cab at that price point. I do think it needs 3 or more years in the cellar to develop. Purple/ruby in color. This was splash decanted for 20 minutes and poured. The nose is great. There is oak, think of a humid lumber yard on a summer day, but not overpowering and actually reasonable. Also plenty of cassis and boysenberries and spice (nutmeg?). On the palate, this is much mo...</td>\n",
       "      <td>[A, friend, brought, this, ,, I, had, not, heard, of, it, ., I, see, it, can, be, found, for, $, 40, and, there, is, a, lot, of, value, for, an, 07, Napa, Cab, at, that, price, point, ., I, do, think, it, needs, 3, or, more, years, in, the, cellar, to, develop, ., Purple, /, ruby, in, color, ., This, was, splash, decanted, for, 20, minutes, and, poured, ., The, nose, is, great, ., There, is, oak, ,, think, of, a, humid, lumber, yard, on, a, summer, day, ,, but, not, overpowering, and, actual...</td>\n",
       "      <td>0.704608</td>\n",
       "      <td>0.030091</td>\n",
       "      <td>0.256680</td>\n",
       "      <td>0.008621</td>\n",
       "    </tr>\n",
       "    <tr>\n",
       "      <th>1001</th>\n",
       "      <td>Cabernet Sauvignon</td>\n",
       "      <td>Nice mature cali cab. Nice nose of dried cherries. Leather and earth very evident with some nice dusty tannins. Drinking very well right now.</td>\n",
       "      <td>[Nice, mature, cali, cab, ., Nice, nose, of, dried, cherries, ., Leather, and, earth, very, evident, with, some, nice, dusty, tannins, ., Drinking, very, well, right, now, .]</td>\n",
       "      <td>0.727141</td>\n",
       "      <td>0.006911</td>\n",
       "      <td>0.264289</td>\n",
       "      <td>0.001659</td>\n",
       "    </tr>\n",
       "    <tr>\n",
       "      <th>...</th>\n",
       "      <td>...</td>\n",
       "      <td>...</td>\n",
       "      <td>...</td>\n",
       "      <td>...</td>\n",
       "      <td>...</td>\n",
       "      <td>...</td>\n",
       "      <td>...</td>\n",
       "    </tr>\n",
       "    <tr>\n",
       "      <th>29013</th>\n",
       "      <td>Merlot</td>\n",
       "      <td>Tasted immediately to get an early fix. Aromas of black raspberries and coffee. Similar notes on the palate with sweet oak and more coffee notes. After an hour or so in the decanter the flavors really started to bloom. Plum, blackberry, and more coffee notes. Nice tannins and dark chocolate notes on the finish. The 2001 is a bit more intense and rich but this is a very nice merlot in my book. I would rate it 92-93 now with a chance to go higher with a little time. Should drink well for 8-10 ...</td>\n",
       "      <td>[Tasted, immediately, to, get, an, early, fix, ., Aromas, of, black, raspberries, and, coffee, ., Similar, notes, on, the, palate, with, sweet, oak, and, more, coffee, notes, ., After, an, hour, or, so, in, the, decanter, the, flavors, really, started, to, bloom, ., Plum, ,, blackberry, ,, and, more, coffee, notes, ., Nice, tannins, and, dark, chocolate, notes, on, the, finish, ., The, 2001, is, a, bit, more, intense, and, rich, but, this, is, a, very, nice, merlot, in, my, book, ., I, would...</td>\n",
       "      <td>0.373382</td>\n",
       "      <td>0.001953</td>\n",
       "      <td>0.624201</td>\n",
       "      <td>0.000464</td>\n",
       "    </tr>\n",
       "    <tr>\n",
       "      <th>29069</th>\n",
       "      <td>Merlot</td>\n",
       "      <td>rich, clean and dark color, plump bodied, ripe berries on the nose, nice mouth-feel after decanting, round, fulfilling berry, dried cherry and wet earth with a mineral finish, the fruit opens up over time, just a bit of tannin, overall a good merlot but it needs a little more time, it went well with French bread pizza</td>\n",
       "      <td>[rich, ,, clean, and, dark, color, ,, plump, bodied, ,, ripe, berries, on, the, nose, ,, nice, mouth, -, feel, after, decanting, ,, round, ,, fulfilling, berry, ,, dried, cherry, and, wet, earth, with, a, mineral, finish, ,, the, fruit, opens, up, over, time, ,, just, a, bit, of, tannin, ,, overall, a, good, merlot, but, it, needs, a, little, more, time, ,, it, went, well, with, French, bread, pizza]</td>\n",
       "      <td>0.267163</td>\n",
       "      <td>0.021847</td>\n",
       "      <td>0.701220</td>\n",
       "      <td>0.009769</td>\n",
       "    </tr>\n",
       "    <tr>\n",
       "      <th>29095</th>\n",
       "      <td>Merlot</td>\n",
       "      <td>Much better than the previous bottle. Deep core of garnet bricking toward the rim. Notes of plum, cherry, leather and dried flowers. Tart cherry and plum fruit, turning soft and dusty through the short finish.</td>\n",
       "      <td>[Much, better, than, the, previous, bottle, ., Deep, core, of, garnet, bricking, toward, the, rim, ., Notes, of, plum, ,, cherry, ,, leather, and, dried, flowers, ., Tart, cherry, and, plum, fruit, ,, turning, soft, and, dusty, through, the, short, finish, .]</td>\n",
       "      <td>0.492033</td>\n",
       "      <td>0.005292</td>\n",
       "      <td>0.498690</td>\n",
       "      <td>0.003984</td>\n",
       "    </tr>\n",
       "    <tr>\n",
       "      <th>29100</th>\n",
       "      <td>Merlot</td>\n",
       "      <td>Dark ruby/purple color. Aromas/flavors of blackberry, clove, spice, white pepper and cherry cola. Good depth and complexity. Nice chewy long finish.</td>\n",
       "      <td>[Dark, ruby, /, purple, color, ., Aromas, /, flavors, of, blackberry, ,, clove, ,, spice, ,, white, pepper, and, cherry, cola, ., Good, depth, and, complexity, ., Nice, chewy, long, finish, .]</td>\n",
       "      <td>0.407630</td>\n",
       "      <td>0.001762</td>\n",
       "      <td>0.588989</td>\n",
       "      <td>0.001619</td>\n",
       "    </tr>\n",
       "    <tr>\n",
       "      <th>29115</th>\n",
       "      <td>Merlot</td>\n",
       "      <td>Much better than last bottle consumed over 6 months ago - bottle aging benefiting the wine, nicely. When first poured, black pepper and bellpepper bouquet, with black pepper and asparagus flavors. After 1 1/2 hours of decanting, pronounced smoke and eucalyptus flavors from midpalate to finish, with drying tannins more pronounced. Enjoying very much in this condition.</td>\n",
       "      <td>[Much, better, than, last, bottle, consumed, over, 6, months, ago, -, bottle, aging, benefiting, the, wine, ,, nicely, ., When, first, poured, ,, black, pepper, and, bellpepper, bouquet, ,, with, black, pepper, and, asparagus, flavors, ., After, 1, 1/2, hours, of, decanting, ,, pronounced, smoke, and, eucalyptus, flavors, from, midpalate, to, finish, ,, with, drying, tannins, more, pronounced, ., Enjoying, very, much, in, this, condition, .]</td>\n",
       "      <td>0.669342</td>\n",
       "      <td>0.012182</td>\n",
       "      <td>0.311411</td>\n",
       "      <td>0.007066</td>\n",
       "    </tr>\n",
       "    <tr>\n",
       "      <th>29144</th>\n",
       "      <td>Merlot</td>\n",
       "      <td>Ripe, almost sexy amounts of blackberry, plum, casis, bitter chocolate, and vanilla. Lush, hedonistic mouthfeel with mouthwatering acidity to balance the fruit. Long, lingering finish with a touch of mocha and sweet oak.</td>\n",
       "      <td>[Ripe, ,, almost, sexy, amounts, of, blackberry, ,, plum, ,, casis, ,, bitter, chocolate, ,, and, vanilla, ., Lush, ,, hedonistic, mouthfeel, with, mouthwatering, acidity, to, balance, the, fruit, ., Long, ,, lingering, finish, with, a, touch, of, mocha, and, sweet, oak, .]</td>\n",
       "      <td>0.313992</td>\n",
       "      <td>0.024801</td>\n",
       "      <td>0.652405</td>\n",
       "      <td>0.008802</td>\n",
       "    </tr>\n",
       "    <tr>\n",
       "      <th>29151</th>\n",
       "      <td>Merlot</td>\n",
       "      <td>dark purple, elegant rich aroma, smooth, velvet, tannic, long aftertaste - a great wine to enjoy when mature (10 years +)</td>\n",
       "      <td>[dark, purple, ,, elegant, rich, aroma, ,, smooth, ,, velvet, ,, tannic, ,, long, aftertaste, -, a, great, wine, to, enjoy, when, mature, (, 10, years, +, )]</td>\n",
       "      <td>0.525032</td>\n",
       "      <td>0.027828</td>\n",
       "      <td>0.439668</td>\n",
       "      <td>0.007472</td>\n",
       "    </tr>\n",
       "    <tr>\n",
       "      <th>29236</th>\n",
       "      <td>Merlot</td>\n",
       "      <td>Lush, ripe, raspberries and blackberries, with some spice and a touch of mint. A little heat on the finish but some nice tannins for some grip. A really well made wine.</td>\n",
       "      <td>[Lush, ,, ripe, ,, raspberries, and, blackberries, ,, with, some, spice, and, a, touch, of, mint, ., A, little, heat, on, the, finish, but, some, nice, tannins, for, some, grip, ., A, really, well, made, wine, .]</td>\n",
       "      <td>0.481011</td>\n",
       "      <td>0.015825</td>\n",
       "      <td>0.496410</td>\n",
       "      <td>0.006753</td>\n",
       "    </tr>\n",
       "    <tr>\n",
       "      <th>29253</th>\n",
       "      <td>Merlot</td>\n",
       "      <td>Give this plenty of time to open up, ~1 hour, and you won't regret it. Hints of black cherry and dark fruit, but lots of dark chocolate. At $9 this is a great value wine, even if you're not a huge merlot fan.</td>\n",
       "      <td>[Give, this, plenty, of, time, to, open, up, ,, ~1, hour, ,, and, you, wo, n't, regret, it, ., Hints, of, black, cherry, and, dark, fruit, ,, but, lots, of, dark, chocolate, ., At, $, 9, this, is, a, great, value, wine, ,, even, if, you, 're, not, a, huge, merlot, fan, .]</td>\n",
       "      <td>0.325614</td>\n",
       "      <td>0.010607</td>\n",
       "      <td>0.657158</td>\n",
       "      <td>0.006621</td>\n",
       "    </tr>\n",
       "    <tr>\n",
       "      <th>29295</th>\n",
       "      <td>Merlot</td>\n",
       "      <td>Deep purple color with a nice scent of blueberry on the nose. This is not your typical Cali fruit bomb merlot. It has a fair amount of structure and some drier tannins that would benefit from a few hours in the decanter. the wine still has plenty of juicy fruit and a medium to long finish. Enjoy!!!</td>\n",
       "      <td>[Deep, purple, color, with, a, nice, scent, of, blueberry, on, the, nose, ., This, is, not, your, typical, Cali, fruit, bomb, merlot, ., It, has, a, fair, amount, of, structure, and, some, drier, tannins, that, would, benefit, from, a, few, hours, in, the, decanter, ., the, wine, still, has, plenty, of, juicy, fruit, and, a, medium, to, long, finish, ., Enjoy, !, !, !]</td>\n",
       "      <td>0.406487</td>\n",
       "      <td>0.016476</td>\n",
       "      <td>0.572189</td>\n",
       "      <td>0.004847</td>\n",
       "    </tr>\n",
       "    <tr>\n",
       "      <th>29327</th>\n",
       "      <td>Merlot</td>\n",
       "      <td>This was Wine Number 4. Very, very dark and beautiful purple color. The nose was gorgeous with intense blackberries, mocha infused chocolate, a hint of vanilla extract. The palate was just as impressive completely filling the mid palate with fruit extract. Full bodied, in balance despite a very high alcohol, tannins are dusty and ripe. This was a return to formr glory for this wine. I chose this as my 3rd place finisher and corectly guessed the identity. I also expected women to like it better.</td>\n",
       "      <td>[This, was, Wine, Number, 4, ., Very, ,, very, dark, and, beautiful, purple, color, ., The, nose, was, gorgeous, with, intense, blackberries, ,, mocha, infused, chocolate, ,, a, hint, of, vanilla, extract, ., The, palate, was, just, as, impressive, completely, filling, the, mid, palate, with, fruit, extract, ., Full, bodied, ,, in, balance, despite, a, very, high, alcohol, ,, tannins, are, dusty, and, ripe, ., This, was, a, return, to, formr, glory, for, this, wine, ., I, chose, this, as, my...</td>\n",
       "      <td>0.497717</td>\n",
       "      <td>0.026350</td>\n",
       "      <td>0.468998</td>\n",
       "      <td>0.006936</td>\n",
       "    </tr>\n",
       "    <tr>\n",
       "      <th>29333</th>\n",
       "      <td>Merlot</td>\n",
       "      <td>Deep inky garnet color. Notes of pepper, plum and dark fruit. Juicy dark fruit on the palate, with spicy oak dominating the finish.</td>\n",
       "      <td>[Deep, inky, garnet, color, ., Notes, of, pepper, ,, plum, and, dark, fruit, ., Juicy, dark, fruit, on, the, palate, ,, with, spicy, oak, dominating, the, finish, .]</td>\n",
       "      <td>0.398837</td>\n",
       "      <td>0.008564</td>\n",
       "      <td>0.584703</td>\n",
       "      <td>0.007896</td>\n",
       "    </tr>\n",
       "    <tr>\n",
       "      <th>29452</th>\n",
       "      <td>Merlot</td>\n",
       "      <td>very dark and dense. leather, cedar, tobacco -- musky, earthy, smokey oak finish.blackberry, black plum, spiced-stewed plum. walnut husk and green dish soap.drank last glass on day 2: cherry, clove, and alcohol.Hard to believe it was just a $20 merlot, outstanding for the price.</td>\n",
       "      <td>[very, dark, and, dense, ., leather, ,, cedar, ,, tobacco, --, musky, ,, earthy, ,, smokey, oak, finish.blackberry, ,, black, plum, ,, spiced, -, stewed, plum, ., walnut, husk, and, green, dish, soap.drank, last, glass, on, day, 2, :, cherry, ,, clove, ,, and, alcohol, ., Hard, to, believe, it, was, just, a, $, 20, merlot, ,, outstanding, for, the, price, .]</td>\n",
       "      <td>0.349040</td>\n",
       "      <td>0.003982</td>\n",
       "      <td>0.645043</td>\n",
       "      <td>0.001935</td>\n",
       "    </tr>\n",
       "    <tr>\n",
       "      <th>29538</th>\n",
       "      <td>Merlot</td>\n",
       "      <td>Dark plum color, Aroma: Raspberries, spice, chocolate, wood chips, Flavour: strawberry, plum, chocolate, Strong Tannins but there are a lot of flavors underneath the heavy load struggling to get out. If you had told me this was a Cab Sauv I wouldn't have been surprised, this is an enormously meaty Merlot with a lot of potential. This is drinking extremely well now, but, unusually for a Merlot, I think would benefit from several years of cellaring. Let those tannins mellow out and the sweet f...</td>\n",
       "      <td>[Dark, plum, color, ,, Aroma, :, Raspberries, ,, spice, ,, chocolate, ,, wood, chips, ,, Flavour, :, strawberry, ,, plum, ,, chocolate, ,, Strong, Tannins, but, there, are, a, lot, of, flavors, underneath, the, heavy, load, struggling, to, get, out, ., If, you, had, told, me, this, was, a, Cab, Sauv, I, would, n't, have, been, surprised, ,, this, is, an, enormously, meaty, Merlot, with, a, lot, of, potential, ., This, is, drinking, extremely, well, now, ,, but, ,, unusually, for, a, Merlot, ...</td>\n",
       "      <td>0.434453</td>\n",
       "      <td>0.004214</td>\n",
       "      <td>0.559632</td>\n",
       "      <td>0.001701</td>\n",
       "    </tr>\n",
       "    <tr>\n",
       "      <th>29603</th>\n",
       "      <td>Merlot</td>\n",
       "      <td>From magnum. Tight after opening. Open and rounding after one hour decant. Integrated, chocolate, cherry and plum fruit profile with light oak. It has medium/full concentration, a balanced impression, finishing with very light, but present, tannin. Overall it's clean and very enjoyable at the table but the fruit isn't complex. Now or wait a year or two.</td>\n",
       "      <td>[From, magnum, ., Tight, after, opening, ., Open, and, rounding, after, one, hour, decant, ., Integrated, ,, chocolate, ,, cherry, and, plum, fruit, profile, with, light, oak, ., It, has, medium, /, full, concentration, ,, a, balanced, impression, ,, finishing, with, very, light, ,, but, present, ,, tannin, ., Overall, it, 's, clean, and, very, enjoyable, at, the, table, but, the, fruit, is, n't, complex, ., Now, or, wait, a, year, or, two, .]</td>\n",
       "      <td>0.510993</td>\n",
       "      <td>0.032645</td>\n",
       "      <td>0.448003</td>\n",
       "      <td>0.008359</td>\n",
       "    </tr>\n",
       "    <tr>\n",
       "      <th>29605</th>\n",
       "      <td>Merlot</td>\n",
       "      <td>ruby red color, nose of plum and toasted oak. palate of cherry and plum, some chocolate and ceder on the finish</td>\n",
       "      <td>[ruby, red, color, ,, nose, of, plum, and, toasted, oak, ., palate, of, cherry, and, plum, ,, some, chocolate, and, ceder, on, the, finish]</td>\n",
       "      <td>0.329070</td>\n",
       "      <td>0.002960</td>\n",
       "      <td>0.666892</td>\n",
       "      <td>0.001078</td>\n",
       "    </tr>\n",
       "    <tr>\n",
       "      <th>29662</th>\n",
       "      <td>Merlot</td>\n",
       "      <td>Popped and poured.Color: deep purple.Nose: cherry, plum, oak, dusty milk chocolate, spice, rhubarb?Palate: Medium-bodied. Red fruits, plum, oak. Decent acidity. Hot. Medium tannin. Medium finish. Components not well-integrated at this point.Overall impression: decent QPR. Was hoping for more given WS rating. May settle down with some cellaring. Have a couple of bottles that will rest for awhile.</td>\n",
       "      <td>[Popped, and, poured, ., Color, :, deep, purple, ., Nose, :, cherry, ,, plum, ,, oak, ,, dusty, milk, chocolate, ,, spice, ,, rhubarb?Palate, :, Medium, -, bodied, ., Red, fruits, ,, plum, ,, oak, ., Decent, acidity, ., Hot, ., Medium, tannin, ., Medium, finish, ., Components, not, well, -, integrated, at, this, point, ., Overall, impression, :, decent, QPR, ., Was, hoping, for, more, given, WS, rating, ., May, settle, down, with, some, cellaring, ., Have, a, couple, of, bottles, that, will,...</td>\n",
       "      <td>0.396505</td>\n",
       "      <td>0.004872</td>\n",
       "      <td>0.596871</td>\n",
       "      <td>0.001751</td>\n",
       "    </tr>\n",
       "    <tr>\n",
       "      <th>29710</th>\n",
       "      <td>Merlot</td>\n",
       "      <td>Deep purple in colour this Merlot has intense black cherry and liquorice aromas on the nose. The palate is full bodied and chunky. The dark jammy fruits continue with additional characters of dark chocolate, tar and rubber. Seems a little sweet for my liking.</td>\n",
       "      <td>[Deep, purple, in, colour, this, Merlot, has, intense, black, cherry, and, liquorice, aromas, on, the, nose, ., The, palate, is, full, bodied, and, chunky, ., The, dark, jammy, fruits, continue, with, additional, characters, of, dark, chocolate, ,, tar, and, rubber, ., Seems, a, little, sweet, for, my, liking, .]</td>\n",
       "      <td>0.375910</td>\n",
       "      <td>0.003548</td>\n",
       "      <td>0.618911</td>\n",
       "      <td>0.001631</td>\n",
       "    </tr>\n",
       "    <tr>\n",
       "      <th>29764</th>\n",
       "      <td>Merlot</td>\n",
       "      <td>Nice color...very full raspberry note w/ light vanilla...very fruit forward w/ strong cherry currant medium finish. An immidiate impression upon opening is a bit jammy...but a good breathing really tightens everything up nicely...</td>\n",
       "      <td>[Nice, color, ..., very, full, raspberry, note, w/, light, vanilla, ..., very, fruit, forward, w/, strong, cherry, currant, medium, finish, ., An, immidiate, impression, upon, opening, is, a, bit, jammy, ..., but, a, good, breathing, really, tightens, everything, up, nicely, ...]</td>\n",
       "      <td>0.439652</td>\n",
       "      <td>0.010463</td>\n",
       "      <td>0.541384</td>\n",
       "      <td>0.008502</td>\n",
       "    </tr>\n",
       "    <tr>\n",
       "      <th>29777</th>\n",
       "      <td>Merlot</td>\n",
       "      <td>Actually enjoyed more than the Cab. Lovely nose of black currants, cherry, sweet oak, and chocolate. Lush and dense palate of mocha, black fruits, spices on finish with sweet oak, vanilla, and balanced acidity.</td>\n",
       "      <td>[Actually, enjoyed, more, than, the, Cab, ., Lovely, nose, of, black, currants, ,, cherry, ,, sweet, oak, ,, and, chocolate, ., Lush, and, dense, palate, of, mocha, ,, black, fruits, ,, spices, on, finish, with, sweet, oak, ,, vanilla, ,, and, balanced, acidity, .]</td>\n",
       "      <td>0.490296</td>\n",
       "      <td>0.005094</td>\n",
       "      <td>0.503219</td>\n",
       "      <td>0.001392</td>\n",
       "    </tr>\n",
       "    <tr>\n",
       "      <th>29793</th>\n",
       "      <td>Merlot</td>\n",
       "      <td>PnV decanted for 2 hours. Purple black red rim very dark core. Coffe cassis licorice and earth aromas. Medium body. Plummy with slightly gritty espresso tannins waek mid palate and short finish. Not as good as previous bottles. Disappointed with this bottle.</td>\n",
       "      <td>[PnV, decanted, for, 2, hours, ., Purple, black, red, rim, very, dark, core, ., Coffe, cassis, licorice, and, earth, aromas, ., Medium, body, ., Plummy, with, slightly, gritty, espresso, tannins, waek, mid, palate, and, short, finish, ., Not, as, good, as, previous, bottles, ., Disappointed, with, this, bottle, .]</td>\n",
       "      <td>0.517505</td>\n",
       "      <td>0.000841</td>\n",
       "      <td>0.481180</td>\n",
       "      <td>0.000474</td>\n",
       "    </tr>\n",
       "    <tr>\n",
       "      <th>29798</th>\n",
       "      <td>Merlot</td>\n",
       "      <td>Decanted for 10 hours (we had a few tastes along the way) big massive nose of bing cherries, sweet dark baking chocolate, some minerality, although it is a touch hightoned. Very thick, dark mouth feel, that shows chocolate cherry and a solid structure that is very well rounded. The finish though a bit biting due to the tannis is medium in length.</td>\n",
       "      <td>[Decanted, for, 10, hours, (, we, had, a, few, tastes, along, the, way, ), big, massive, nose, of, bing, cherries, ,, sweet, dark, baking, chocolate, ,, some, minerality, ,, although, it, is, a, touch, hightoned, ., Very, thick, ,, dark, mouth, feel, ,, that, shows, chocolate, cherry, and, a, solid, structure, that, is, very, well, rounded, ., The, finish, though, a, bit, biting, due, to, the, tannis, is, medium, in, length, .]</td>\n",
       "      <td>0.404797</td>\n",
       "      <td>0.019881</td>\n",
       "      <td>0.569009</td>\n",
       "      <td>0.006312</td>\n",
       "    </tr>\n",
       "    <tr>\n",
       "      <th>29825</th>\n",
       "      <td>Merlot</td>\n",
       "      <td>Inky red with ruby rim. Oakville estate is right on for the nose and finish. In between the palate is plummy and dense, and moderate to highly complex with cedar/cigar box, tobacco, and some other black fruit. Long finish, but with each click of the tongue the wood comes back. Nice, actually very nice... I just wish it was taken out of the barrell and put in the bottle earlier.</td>\n",
       "      <td>[Inky, red, with, ruby, rim, ., Oakville, estate, is, right, on, for, the, nose, and, finish, ., In, between, the, palate, is, plummy, and, dense, ,, and, moderate, to, highly, complex, with, cedar, /, cigar, box, ,, tobacco, ,, and, some, other, black, fruit, ., Long, finish, ,, but, with, each, click, of, the, tongue, the, wood, comes, back, ., Nice, ,, actually, very, nice, ..., I, just, wish, it, was, taken, out, of, the, barrell, and, put, in, the, bottle, earlier, .]</td>\n",
       "      <td>0.564979</td>\n",
       "      <td>0.005286</td>\n",
       "      <td>0.425864</td>\n",
       "      <td>0.003871</td>\n",
       "    </tr>\n",
       "    <tr>\n",
       "      <th>29897</th>\n",
       "      <td>Merlot</td>\n",
       "      <td>Drank from magnum. Very tight initially but opened up nicely after about 45 minutes. Fantastic ruby color, no signs of age at this point. Medium to light-medium in body, this was very enjoyable - esp with food. Some plum, black cherry, and dark chocolate oak on the palate but the flavors were far from being expressive. I am inclined to describe this wine as \"thin\", especially compared to most high(er) end Napa Merlot and what the Three Palms vineyard typically produces. However, this has sev...</td>\n",
       "      <td>[Drank, from, magnum, ., Very, tight, initially, but, opened, up, nicely, after, about, 45, minutes, ., Fantastic, ruby, color, ,, no, signs, of, age, at, this, point, ., Medium, to, light, -, medium, in, body, ,, this, was, very, enjoyable, -, esp, with, food, ., Some, plum, ,, black, cherry, ,, and, dark, chocolate, oak, on, the, palate, but, the, flavors, were, far, from, being, expressive, ., I, am, inclined, to, describe, this, wine, as, \", thin, \", ,, especially, compared, to, most, hi...</td>\n",
       "      <td>0.434153</td>\n",
       "      <td>0.022614</td>\n",
       "      <td>0.538510</td>\n",
       "      <td>0.004724</td>\n",
       "    </tr>\n",
       "    <tr>\n",
       "      <th>29934</th>\n",
       "      <td>Merlot</td>\n",
       "      <td>Wonderful aroma of dark cherry, toasty oak and mocha. Rich mouthfeel, nice weight long finish. Cherry and mocha predominate the palate, with a bit of blackberry on the long finish. Nice smooth tannins.</td>\n",
       "      <td>[Wonderful, aroma, of, dark, cherry, ,, toasty, oak, and, mocha, ., Rich, mouthfeel, ,, nice, weight, long, finish, ., Cherry, and, mocha, predominate, the, palate, ,, with, a, bit, of, blackberry, on, the, long, finish, ., Nice, smooth, tannins, .]</td>\n",
       "      <td>0.386215</td>\n",
       "      <td>0.007946</td>\n",
       "      <td>0.603660</td>\n",
       "      <td>0.002179</td>\n",
       "    </tr>\n",
       "  </tbody>\n",
       "</table>\n",
       "<p>478 rows × 7 columns</p>\n",
       "</div>"
      ],
      "text/plain": [
       "             wine_variant  \\\n",
       "8      Cabernet Sauvignon   \n",
       "32     Cabernet Sauvignon   \n",
       "126    Cabernet Sauvignon   \n",
       "129    Cabernet Sauvignon   \n",
       "131    Cabernet Sauvignon   \n",
       "145    Cabernet Sauvignon   \n",
       "176    Cabernet Sauvignon   \n",
       "192    Cabernet Sauvignon   \n",
       "278    Cabernet Sauvignon   \n",
       "408    Cabernet Sauvignon   \n",
       "427    Cabernet Sauvignon   \n",
       "542    Cabernet Sauvignon   \n",
       "601    Cabernet Sauvignon   \n",
       "620    Cabernet Sauvignon   \n",
       "625    Cabernet Sauvignon   \n",
       "640    Cabernet Sauvignon   \n",
       "674    Cabernet Sauvignon   \n",
       "692    Cabernet Sauvignon   \n",
       "757    Cabernet Sauvignon   \n",
       "831    Cabernet Sauvignon   \n",
       "928    Cabernet Sauvignon   \n",
       "937    Cabernet Sauvignon   \n",
       "955    Cabernet Sauvignon   \n",
       "961    Cabernet Sauvignon   \n",
       "1001   Cabernet Sauvignon   \n",
       "...                   ...   \n",
       "29013              Merlot   \n",
       "29069              Merlot   \n",
       "29095              Merlot   \n",
       "29100              Merlot   \n",
       "29115              Merlot   \n",
       "29144              Merlot   \n",
       "29151              Merlot   \n",
       "29236              Merlot   \n",
       "29253              Merlot   \n",
       "29295              Merlot   \n",
       "29327              Merlot   \n",
       "29333              Merlot   \n",
       "29452              Merlot   \n",
       "29538              Merlot   \n",
       "29603              Merlot   \n",
       "29605              Merlot   \n",
       "29662              Merlot   \n",
       "29710              Merlot   \n",
       "29764              Merlot   \n",
       "29777              Merlot   \n",
       "29793              Merlot   \n",
       "29798              Merlot   \n",
       "29825              Merlot   \n",
       "29897              Merlot   \n",
       "29934              Merlot   \n",
       "\n",
       "                                                                                                                                                                                                                                                                                                                                                                                                                                                                                                               review_text  \\\n",
       "8                                                                                                                                                                                                                                                                                                                                 Sweet red fruits and still a bit of tannins, but everything is well integrated in this wine. It has some real nice cherry flavors and a hint of tobacco. The finish is smooth and silky.   \n",
       "32     When I bought this 9 years ago, I commented that it was extremely tannic and would take years to evolve. Jancis Robinsonm and I agreed that the 94 Napa vintage required patience. I thought 14 years would do. It needs more time. I double decanted in the morning. At dinner at Prime 112, it was still austere, so we used the Vinturi aerator and it finally began to reveal itself. Classic Medoc styled Cab with brooding cassis graphite palate.If you want to drink it, either decant for several hours...   \n",
       "126                                                                                                                                                                                                                                                                                                                                                            dark ruby and plenty of \"terrior\", nose is a bit earthy...must decant for at least 1 hour. after it opened up, it mellowed nicely and became very drinkable   \n",
       "129                                                                                                             Tasted at vertical Chateau Montelena tasting at the home of Amy Weinberg.  Bright disc.  Opaque ruby with red rim.  Clean nose, showing moderately intense currants, cherry, plum and mint.  Medium to full-bodied on the palate, with medium sweet tannins and similar flavors as for the nose.  Long, smooth finish.  This wine is showing a very youthful face for an '86.  Should continue to improve.   \n",
       "131                                                                                                                                                                                                                                                                                                                        Begins with blueberry, bitter chocolate and cassis. The palate shows dried blue fruit, cracked pepper and sage. Rustic and brawny in feel with firm tannin and full finishing notes. Very nice.   \n",
       "145    Although this was a great wine, it was definitely way too young to drink, and could sit in the bottle for at least another 10 years an be absolutely incredible. Purchased this down in Lavalette, NJ this weekend while visiting Todd & Michelle's beach house. Gorgeous fragrances right as the bottle was opened, and you could really smell this wine. This was put back into the cellar for a few hours while we drank the previous whites, and it really opened up overtime. Nice hints of blackberry, dar...   \n",
       "176                                                                                                                                                                                                                                                                                                                                                                                 Dark ruby color; maturing, tart cassis nose; tart cassis, ripe currant palate; needs 2-3 years; medium-plus finish (w/1% Petit Verdot)   \n",
       "192                                                                                  A dark,inky cabernet with a great nose with a fruit forward on the pallet. The first impression is chocolate followed by a smooth cherry giving way to a hint of cranberry. I notice that 2006 FH Cab is well balanced with a little bit of tannin in the end eliciting some chewiness. This is yummy juice for the price that will average around $25.00 per bottle and comes from one of those small boutique vineyads in oakville.   \n",
       "278                           Very lovely aged Cab. Flowery nose of red fruits and eucalyptus. Flavors similar, with cherry but almost pie-cherry fruit nicely mingled with cedar, light tar and black olive although those \"old-cab\" flavors still taste good because of that cherry fruit and great balance. I had the 1st glass blind and assumed it was a few years older and by the time we finished the bottle, as good as it was, I feel it's aging a tad faster than one might want so I think it's time to drink.   \n",
       "408    Popped and tasted immediately. The nose hold strong scents of oak, black fruit, and lighter scents of eucalyptus, lavender, lilacs, and caramel. In the mouth flavors of blackberry transition to blueberry pie, bakers chocolate, mocha, and light cedar notes. At this point in time the finish is about 30 seconds long. It's powerful while still delicate...and that's what I really love about these Teachworth Cabs. More to follow after a 4 hour decant...I'm bringing this to a dinner tonight in my d...   \n",
       "427                                                                                                                                                                                                                                                                                                                                                 odd funk of blood and herbs. silky smooth texture. medium bodied. toasted cherries, no holes, good structure, copious ripe tannins, and a long finish. its a good cab.   \n",
       "542                                                                         Deep dark fruit, nothing left on the vine. Low yields are evident in the concentrated flavors of blackberry, black cherry, cassis, with oak notes. The tannins are so well structured and with such power and finish that one is singularly focused on drinking this wine. Teeth stainer you wear with pride and a great memory. Lot's of life to go. No decanting necessary, this evolves in the bottle and delicious from the moment opened.   \n",
       "601                                                                                                                                                                                 Big and bold oak is right!!! Very sweet with new American Oak, and ripe cassis and dark fruits. At this early stage, I think I am going to prefer the 2001 over the 1997. It is curious if the fruit, tannins and oak will balance out over time, but right now it is a true OAK bomb!! Rated 91 currently withpotential rating of 93.   \n",
       "620                                                                                                                                                                                                                                                                                    not a great wine but drinkable. The nose is subdued after 2 hours, with mostly cocoa and mocha . The wine did devekp and the alcohol subsided after a few hours, but not a WOW type of wine. Black with ruby rim, very little fruit   \n",
       "625                                                                                                                                                                   The color is a very dark purple, almost opaque. The nose sports a perfume of blackberries a slight blueberry note, cassis, spice, coffee, menthol, vanilla and oak. The wine offers a dense, full bodied, chewy texture. On the palate, the wine displays blackberry liqueur, pepper and black cherry flavors and a long finish. This will age well.   \n",
       "640                                                                                                                                                                                                                                                                                                                                                         Decanted for an hour-which is essential. Wine is smooth with dense tobacco and heavy oak, dark fruit is present but subtle mid palate. Pair with hearty foods.   \n",
       "674                                                                                                                                                                                                                                                                                                                      Popped and poured, intense sweet nose of currants, cassis and vanilla. Rich and intense dark fruit, vanilla and oak on the palate. Still some tannins to shed, balanced and very Californian. 89+   \n",
       "692                                                                                                                                                                                                           This wine provides incredible quality and value for a vineyard designated Napa Valley Cabernet Sauvignon, this is their second labeling. It delivers flavors of cassis, cherry and cocoa with aromas of earth, tobacco, leather, and vanilla. Possess great depth and complexity with a 30-40 second finish.   \n",
       "757                                                                                                                                                                                                                                                                                                Dark plum, berry jam, dried blueberries, vanilla, cocoa, pepper, even hints of jalapeno and bell peppers, and cabbage. full bodied, lush mouthfeel, balance dark spicy fruit with a veggie note and ripe chewy tannins.   \n",
       "831                                                                                                                                                                                                                                                                                                                           Huge cab, dominated by dark fruit, with plenty of Howell Mountain grip. It evolved a lot over several hours in the glass. Decant for an hour+ if you plan on popping this baby anytime soon.   \n",
       "928                                                                                                                                                                                                                                                                                                                                                       Ruby red, full bodied cab with dense dark fruit, nice tannins with complexity and long satiny finish. A great CA cab. Should age well over the next 10-15 years.   \n",
       "937                                                                                                                                                   Purple color with a complex, mineral-over-vibrant red fruit nose. Excellent aromas. Out of the bottle the palate is tight and tannic. Over time, develops a very interesting profile of plush currant and cassis fruits, tobacco and cedar. This is quite young - only developed medium body weight and plenty of tanninc structure. In 5 years, I'd love this wine.   \n",
       "955                                                                                                                                             Drank over two days. Blackberry, raspberry, leather, vanilla, hemp, with the slightest hint of green olive and burnt caramel. Red currant, blackberry, mint, roasted thyme, and vanilla palate. Great balance and smooth, fine tannins. Really opened up on the second day. Agree with the recs to let this breathe for a bit before drinking. Still has a few years left.   \n",
       "961    A friend brought this, I had not heard of it. I see it can be found for $40 and there is a lot of value for an 07 Napa Cab at that price point. I do think it needs 3 or more years in the cellar to develop. Purple/ruby in color. This was splash decanted for 20 minutes and poured. The nose is great. There is oak, think of a humid lumber yard on a summer day, but not overpowering and actually reasonable. Also plenty of cassis and boysenberries and spice (nutmeg?). On the palate, this is much mo...   \n",
       "1001                                                                                                                                                                                                                                                                                                                                                                         Nice mature cali cab. Nice nose of dried cherries. Leather and earth very evident with some nice dusty tannins. Drinking very well right now.   \n",
       "...                                                                                                                                                                                                                                                                                                                                                                                                                                                                                                                    ...   \n",
       "29013  Tasted immediately to get an early fix. Aromas of black raspberries and coffee. Similar notes on the palate with sweet oak and more coffee notes. After an hour or so in the decanter the flavors really started to bloom. Plum, blackberry, and more coffee notes. Nice tannins and dark chocolate notes on the finish. The 2001 is a bit more intense and rich but this is a very nice merlot in my book. I would rate it 92-93 now with a chance to go higher with a little time. Should drink well for 8-10 ...   \n",
       "29069                                                                                                                                                                                      rich, clean and dark color, plump bodied, ripe berries on the nose, nice mouth-feel after decanting, round, fulfilling berry, dried cherry and wet earth with a mineral finish, the fruit opens up over time, just a bit of tannin, overall a good merlot but it needs a little more time, it went well with French bread pizza   \n",
       "29095                                                                                                                                                                                                                                                                                                    Much better than the previous bottle. Deep core of garnet bricking toward the rim. Notes of plum, cherry, leather and dried flowers. Tart cherry and plum fruit, turning soft and dusty through the short finish.   \n",
       "29100                                                                                                                                                                                                                                                                                                                                                                 Dark ruby/purple color. Aromas/flavors of blackberry, clove, spice, white pepper and cherry cola. Good depth and complexity. Nice chewy long finish.   \n",
       "29115                                                                                                                                    Much better than last bottle consumed over 6 months ago - bottle aging benefiting the wine, nicely. When first poured, black pepper and bellpepper bouquet, with black pepper and asparagus flavors. After 1 1/2 hours of decanting, pronounced smoke and eucalyptus flavors from midpalate to finish, with drying tannins more pronounced. Enjoying very much in this condition.   \n",
       "29144                                                                                                                                                                                                                                                                                         Ripe, almost sexy amounts of blackberry, plum, casis, bitter chocolate, and vanilla. Lush, hedonistic mouthfeel with mouthwatering acidity to balance the fruit. Long, lingering finish with a touch of mocha and sweet oak.   \n",
       "29151                                                                                                                                                                                                                                                                                                                                                                                            dark purple, elegant rich aroma, smooth, velvet, tannic, long aftertaste - a great wine to enjoy when mature (10 years +)   \n",
       "29236                                                                                                                                                                                                                                                                                                                                             Lush, ripe, raspberries and blackberries, with some spice and a touch of mint. A little heat on the finish but some nice tannins for some grip. A really well made wine.   \n",
       "29253                                                                                                                                                                                                                                                                                                     Give this plenty of time to open up, ~1 hour, and you won't regret it. Hints of black cherry and dark fruit, but lots of dark chocolate. At $9 this is a great value wine, even if you're not a huge merlot fan.   \n",
       "29295                                                                                                                                                                                                          Deep purple color with a nice scent of blueberry on the nose. This is not your typical Cali fruit bomb merlot. It has a fair amount of structure and some drier tannins that would benefit from a few hours in the decanter. the wine still has plenty of juicy fruit and a medium to long finish. Enjoy!!!   \n",
       "29327  This was Wine Number 4. Very, very dark and beautiful purple color. The nose was gorgeous with intense blackberries, mocha infused chocolate, a hint of vanilla extract. The palate was just as impressive completely filling the mid palate with fruit extract. Full bodied, in balance despite a very high alcohol, tannins are dusty and ripe. This was a return to formr glory for this wine. I chose this as my 3rd place finisher and corectly guessed the identity. I also expected women to like it better.   \n",
       "29333                                                                                                                                                                                                                                                                                                                                                                                  Deep inky garnet color. Notes of pepper, plum and dark fruit. Juicy dark fruit on the palate, with spicy oak dominating the finish.   \n",
       "29452                                                                                                                                                                                                                              very dark and dense. leather, cedar, tobacco -- musky, earthy, smokey oak finish.blackberry, black plum, spiced-stewed plum. walnut husk and green dish soap.drank last glass on day 2: cherry, clove, and alcohol.Hard to believe it was just a $20 merlot, outstanding for the price.   \n",
       "29538  Dark plum color, Aroma: Raspberries, spice, chocolate, wood chips, Flavour: strawberry, plum, chocolate, Strong Tannins but there are a lot of flavors underneath the heavy load struggling to get out. If you had told me this was a Cab Sauv I wouldn't have been surprised, this is an enormously meaty Merlot with a lot of potential. This is drinking extremely well now, but, unusually for a Merlot, I think would benefit from several years of cellaring. Let those tannins mellow out and the sweet f...   \n",
       "29603                                                                                                                                                  From magnum. Tight after opening. Open and rounding after one hour decant. Integrated, chocolate, cherry and plum fruit profile with light oak. It has medium/full concentration, a balanced impression, finishing with very light, but present, tannin. Overall it's clean and very enjoyable at the table but the fruit isn't complex. Now or wait a year or two.   \n",
       "29605                                                                                                                                                                                                                                                                                                                                                                                                      ruby red color, nose of plum and toasted oak. palate of cherry and plum, some chocolate and ceder on the finish   \n",
       "29662                                                                                                       Popped and poured.Color: deep purple.Nose: cherry, plum, oak, dusty milk chocolate, spice, rhubarb?Palate: Medium-bodied. Red fruits, plum, oak. Decent acidity. Hot. Medium tannin. Medium finish. Components not well-integrated at this point.Overall impression: decent QPR. Was hoping for more given WS rating. May settle down with some cellaring. Have a couple of bottles that will rest for awhile.   \n",
       "29710                                                                                                                                                                                                                                                  Deep purple in colour this Merlot has intense black cherry and liquorice aromas on the nose. The palate is full bodied and chunky. The dark jammy fruits continue with additional characters of dark chocolate, tar and rubber. Seems a little sweet for my liking.   \n",
       "29764                                                                                                                                                                                                                                                                               Nice color...very full raspberry note w/ light vanilla...very fruit forward w/ strong cherry currant medium finish. An immidiate impression upon opening is a bit jammy...but a good breathing really tightens everything up nicely...   \n",
       "29777                                                                                                                                                                                                                                                                                                   Actually enjoyed more than the Cab. Lovely nose of black currants, cherry, sweet oak, and chocolate. Lush and dense palate of mocha, black fruits, spices on finish with sweet oak, vanilla, and balanced acidity.   \n",
       "29793                                                                                                                                                                                                                                                   PnV decanted for 2 hours. Purple black red rim very dark core. Coffe cassis licorice and earth aromas. Medium body. Plummy with slightly gritty espresso tannins waek mid palate and short finish. Not as good as previous bottles. Disappointed with this bottle.   \n",
       "29798                                                                                                                                                         Decanted for 10 hours (we had a few tastes along the way) big massive nose of bing cherries, sweet dark baking chocolate, some minerality, although it is a touch hightoned. Very thick, dark mouth feel, that shows chocolate cherry and a solid structure that is very well rounded. The finish though a bit biting due to the tannis is medium in length.   \n",
       "29825                                                                                                                         Inky red with ruby rim. Oakville estate is right on for the nose and finish. In between the palate is plummy and dense, and moderate to highly complex with cedar/cigar box, tobacco, and some other black fruit. Long finish, but with each click of the tongue the wood comes back. Nice, actually very nice... I just wish it was taken out of the barrell and put in the bottle earlier.   \n",
       "29897  Drank from magnum. Very tight initially but opened up nicely after about 45 minutes. Fantastic ruby color, no signs of age at this point. Medium to light-medium in body, this was very enjoyable - esp with food. Some plum, black cherry, and dark chocolate oak on the palate but the flavors were far from being expressive. I am inclined to describe this wine as \"thin\", especially compared to most high(er) end Napa Merlot and what the Three Palms vineyard typically produces. However, this has sev...   \n",
       "29934                                                                                                                                                                                                                                                                                                            Wonderful aroma of dark cherry, toasty oak and mocha. Rich mouthfeel, nice weight long finish. Cherry and mocha predominate the palate, with a bit of blackberry on the long finish. Nice smooth tannins.   \n",
       "\n",
       "                                                                                                                                                                                                                                                                                                                                                                                                                                                                                                                    tokens  \\\n",
       "8                                                                                                                                                                                                                                                                                     [Sweet, red, fruits, and, still, a, bit, of, tannins, ,, but, everything, is, well, integrated, in, this, wine, ., It, has, some, real, nice, cherry, flavors, and, a, hint, of, tobacco, ., The, finish, is, smooth, and, silky, .]   \n",
       "32     [When, I, bought, this, 9, years, ago, ,, I, commented, that, it, was, extremely, tannic, and, would, take, years, to, evolve, ., Jancis, Robinsonm, and, I, agreed, that, the, 94, Napa, vintage, required, patience, ., I, thought, 14, years, would, do, ., It, needs, more, time, ., I, double, decanted, in, the, morning, ., At, dinner, at, Prime, 112, ,, it, was, still, austere, ,, so, we, used, the, Vinturi, aerator, and, it, finally, began, to, reveal, itself, ., Classic, Medoc, styled, Cab, ...   \n",
       "126                                                                                                                                                                                                                                                                                                                 [dark, ruby, and, plenty, of, \", terrior, \", ,, nose, is, a, bit, earthy, ..., must, decant, for, at, least, 1, hour, ., after, it, opened, up, ,, it, mellowed, nicely, and, became, very, drinkable]   \n",
       "129    [Tasted, at, vertical, Chateau, Montelena, tasting, at, the, home, of, Amy, Weinberg, .,  , Bright, disc, .,  , Opaque, ruby, with, red, rim, .,  , Clean, nose, ,, showing, moderately, intense, currants, ,, cherry, ,, plum, and, mint, .,  , Medium, to, full, -, bodied, on, the, palate, ,, with, medium, sweet, tannins, and, similar, flavors, as, for, the, nose, .,  , Long, ,, smooth, finish, .,  , This, wine, is, showing, a, very, youthful, face, for, an, ', 86, .,  , Should, continue, to, im...   \n",
       "131                                                                                                                                                                                                                                                                            [Begins, with, blueberry, ,, bitter, chocolate, and, cassis, ., The, palate, shows, dried, blue, fruit, ,, cracked, pepper, and, sage, ., Rustic, and, brawny, in, feel, with, firm, tannin, and, full, finishing, notes, ., Very, nice, .]   \n",
       "145    [Although, this, was, a, great, wine, ,, it, was, definitely, way, too, young, to, drink, ,, and, could, sit, in, the, bottle, for, at, least, another, 10, years, an, be, absolutely, incredible, ., Purchased, this, down, in, Lavalette, ,, NJ, this, weekend, while, visiting, Todd, &, Michelle, 's, beach, house, ., Gorgeous, fragrances, right, as, the, bottle, was, opened, ,, and, you, could, really, smell, this, wine, ., This, was, put, back, into, the, cellar, for, a, few, hours, while, we, ...   \n",
       "176                                                                                                                                                                                                                                                                                                                                  [Dark, ruby, color, ;, maturing, ,, tart, cassis, nose, ;, tart, cassis, ,, ripe, currant, palate, ;, needs, 2, -, 3, years, ;, medium, -, plus, finish, (, w/1, %, Petit, Verdot, )]   \n",
       "192    [A, dark, ,, inky, cabernet, with, a, great, nose, with, a, fruit, forward, on, the, pallet, ., The, first, impression, is, chocolate, followed, by, a, smooth, cherry, giving, way, to, a, hint, of, cranberry, ., I, notice, that, 2006, FH, Cab, is, well, balanced, with, a, little, bit, of, tannin, in, the, end, eliciting, some, chewiness, ., This, is, yummy, juice, for, the, price, that, will, average, around, $, 25.00, per, bottle, and, comes, from, one, of, those, small, boutique, vineyads,...   \n",
       "278    [Very, lovely, aged, Cab, ., Flowery, nose, of, red, fruits, and, eucalyptus, ., Flavors, similar, ,, with, cherry, but, almost, pie, -, cherry, fruit, nicely, mingled, with, cedar, ,, light, tar, and, black, olive, although, those, \", old, -, cab, \", flavors, still, taste, good, because, of, that, cherry, fruit, and, great, balance, ., I, had, the, 1st, glass, blind, and, assumed, it, was, a, few, years, older, and, by, the, time, we, finished, the, bottle, ,, as, good, as, it, was, ,, I, f...   \n",
       "408    [Popped, and, tasted, immediately, ., The, nose, hold, strong, scents, of, oak, ,, black, fruit, ,, and, lighter, scents, of, eucalyptus, ,, lavender, ,, lilacs, ,, and, caramel, ., In, the, mouth, flavors, of, blackberry, transition, to, blueberry, pie, ,, bakers, chocolate, ,, mocha, ,, and, light, cedar, notes, ., At, this, point, in, time, the, finish, is, about, 30, seconds, long, ., It, 's, powerful, while, still, delicate, ..., and, that, 's, what, I, really, love, about, these, Teach...   \n",
       "427                                                                                                                                                                                                                                                                                                  [odd, funk, of, blood, and, herbs, ., silky, smooth, texture, ., medium, bodied, ., toasted, cherries, ,, no, holes, ,, good, structure, ,, copious, ripe, tannins, ,, and, a, long, finish, ., its, a, good, cab, .]   \n",
       "542    [Deep, dark, fruit, ,, nothing, left, on, the, vine, ., Low, yields, are, evident, in, the, concentrated, flavors, of, blackberry, ,, black, cherry, ,, cassis, ,, with, oak, notes, ., The, tannins, are, so, well, structured, and, with, such, power, and, finish, that, one, is, singularly, focused, on, drinking, this, wine, ., Teeth, stainer, you, wear, with, pride, and, a, great, memory, ., Lot, 's, of, life, to, go, ., No, decanting, necessary, ,, this, evolves, in, the, bottle, and, delicio...   \n",
       "601                                                                                        [Big, and, bold, oak, is, right, !, !, !, Very, sweet, with, new, American, Oak, ,, and, ripe, cassis, and, dark, fruits, ., At, this, early, stage, ,, I, think, I, am, going, to, prefer, the, 2001, over, the, 1997, ., It, is, curious, if, the, fruit, ,, tannins, and, oak, will, balance, out, over, time, ,, but, right, now, it, is, a, true, OAK, bomb, !, !, Rated, 91, currently, withpotential, rating, of, 93, .]   \n",
       "620                                                                                                                                                                                                                            [not, a, great, wine, but, drinkable, ., The, nose, is, subdued, after, 2, hours, ,, with, mostly, cocoa, and, mocha, ., The, wine, did, devekp, and, the, alcohol, subsided, after, a, few, hours, ,, but, not, a, WOW, type, of, wine, ., Black, with, ruby, rim, ,, very, little, fruit]   \n",
       "625                                                                           [The, color, is, a, very, dark, purple, ,, almost, opaque, ., The, nose, sports, a, perfume, of, blackberries, a, slight, blueberry, note, ,, cassis, ,, spice, ,, coffee, ,, menthol, ,, vanilla, and, oak, ., The, wine, offers, a, dense, ,, full, bodied, ,, chewy, texture, ., On, the, palate, ,, the, wine, displays, blackberry, liqueur, ,, pepper, and, black, cherry, flavors, and, a, long, finish, ., This, will, age, well, .]   \n",
       "640                                                                                                                                                                                                                                                                                                                 [Decanted, for, an, hour, -, which, is, essential, ., Wine, is, smooth, with, dense, tobacco, and, heavy, oak, ,, dark, fruit, is, present, but, subtle, mid, palate, ., Pair, with, hearty, foods, .]   \n",
       "674                                                                                                                                                                                                                                                                     [Popped, and, poured, ,, intense, sweet, nose, of, currants, ,, cassis, and, vanilla, ., Rich, and, intense, dark, fruit, ,, vanilla, and, oak, on, the, palate, ., Still, some, tannins, to, shed, ,, balanced, and, very, Californian, ., 89, +]   \n",
       "692                                                                                                                                        [This, wine, provides, incredible, quality, and, value, for, a, vineyard, designated, Napa, Valley, Cabernet, Sauvignon, ,, this, is, their, second, labeling, ., It, delivers, flavors, of, cassis, ,, cherry, and, cocoa, with, aromas, of, earth, ,, tobacco, ,, leather, ,, and, vanilla, ., Possess, great, depth, and, complexity, with, a, 30, -, 40, second, finish, .]   \n",
       "757                                                                                                                                                                                                                                       [Dark, plum, ,, berry, jam, ,, dried, blueberries, ,, vanilla, ,, cocoa, ,, pepper, ,, even, hints, of, jalapeno, and, bell, peppers, ,, and, cabbage, ., full, bodied, ,, lush, mouthfeel, ,, balance, dark, spicy, fruit, with, a, veggie, note, and, ripe, chewy, tannins, .]   \n",
       "831                                                                                                                                                                                                                                                                             [Huge, cab, ,, dominated, by, dark, fruit, ,, with, plenty, of, Howell, Mountain, grip, ., It, evolved, a, lot, over, several, hours, in, the, glass, ., Decant, for, an, hour+, if, you, plan, on, popping, this, baby, anytime, soon, .]   \n",
       "928                                                                                                                                                                                                                                                                                                           [Ruby, red, ,, full, bodied, cab, with, dense, dark, fruit, ,, nice, tannins, with, complexity, and, long, satiny, finish, ., A, great, CA, cab, ., Should, age, well, over, the, next, 10, -, 15, years, .]   \n",
       "937                                                         [Purple, color, with, a, complex, ,, mineral, -, over, -, vibrant, red, fruit, nose, ., Excellent, aromas, ., Out, of, the, bottle, the, palate, is, tight, and, tannic, ., Over, time, ,, develops, a, very, interesting, profile, of, plush, currant, and, cassis, fruits, ,, tobacco, and, cedar, ., This, is, quite, young, -, only, developed, medium, body, weight, and, plenty, of, tanninc, structure, ., In, 5, years, ,, I, 'd, love, this, wine, .]   \n",
       "955                                              [Drank, over, two, days, ., Blackberry, ,, raspberry, ,, leather, ,, vanilla, ,, hemp, ,, with, the, slightest, hint, of, green, olive, and, burnt, caramel, ., Red, currant, ,, blackberry, ,, mint, ,, roasted, thyme, ,, and, vanilla, palate, ., Great, balance, and, smooth, ,, fine, tannins, ., Really, opened, up, on, the, second, day, ., Agree, with, the, recs, to, let, this, breathe, for, a, bit, before, drinking, ., Still, has, a, few, years, left, .]   \n",
       "961    [A, friend, brought, this, ,, I, had, not, heard, of, it, ., I, see, it, can, be, found, for, $, 40, and, there, is, a, lot, of, value, for, an, 07, Napa, Cab, at, that, price, point, ., I, do, think, it, needs, 3, or, more, years, in, the, cellar, to, develop, ., Purple, /, ruby, in, color, ., This, was, splash, decanted, for, 20, minutes, and, poured, ., The, nose, is, great, ., There, is, oak, ,, think, of, a, humid, lumber, yard, on, a, summer, day, ,, but, not, overpowering, and, actual...   \n",
       "1001                                                                                                                                                                                                                                                                                                                                        [Nice, mature, cali, cab, ., Nice, nose, of, dried, cherries, ., Leather, and, earth, very, evident, with, some, nice, dusty, tannins, ., Drinking, very, well, right, now, .]   \n",
       "...                                                                                                                                                                                                                                                                                                                                                                                                                                                                                                                    ...   \n",
       "29013  [Tasted, immediately, to, get, an, early, fix, ., Aromas, of, black, raspberries, and, coffee, ., Similar, notes, on, the, palate, with, sweet, oak, and, more, coffee, notes, ., After, an, hour, or, so, in, the, decanter, the, flavors, really, started, to, bloom, ., Plum, ,, blackberry, ,, and, more, coffee, notes, ., Nice, tannins, and, dark, chocolate, notes, on, the, finish, ., The, 2001, is, a, bit, more, intense, and, rich, but, this, is, a, very, nice, merlot, in, my, book, ., I, would...   \n",
       "29069                                                                                                  [rich, ,, clean, and, dark, color, ,, plump, bodied, ,, ripe, berries, on, the, nose, ,, nice, mouth, -, feel, after, decanting, ,, round, ,, fulfilling, berry, ,, dried, cherry, and, wet, earth, with, a, mineral, finish, ,, the, fruit, opens, up, over, time, ,, just, a, bit, of, tannin, ,, overall, a, good, merlot, but, it, needs, a, little, more, time, ,, it, went, well, with, French, bread, pizza]   \n",
       "29095                                                                                                                                                                                                                                                  [Much, better, than, the, previous, bottle, ., Deep, core, of, garnet, bricking, toward, the, rim, ., Notes, of, plum, ,, cherry, ,, leather, and, dried, flowers, ., Tart, cherry, and, plum, fruit, ,, turning, soft, and, dusty, through, the, short, finish, .]   \n",
       "29100                                                                                                                                                                                                                                                                                                                     [Dark, ruby, /, purple, color, ., Aromas, /, flavors, of, blackberry, ,, clove, ,, spice, ,, white, pepper, and, cherry, cola, ., Good, depth, and, complexity, ., Nice, chewy, long, finish, .]   \n",
       "29115                                                        [Much, better, than, last, bottle, consumed, over, 6, months, ago, -, bottle, aging, benefiting, the, wine, ,, nicely, ., When, first, poured, ,, black, pepper, and, bellpepper, bouquet, ,, with, black, pepper, and, asparagus, flavors, ., After, 1, 1/2, hours, of, decanting, ,, pronounced, smoke, and, eucalyptus, flavors, from, midpalate, to, finish, ,, with, drying, tannins, more, pronounced, ., Enjoying, very, much, in, this, condition, .]   \n",
       "29144                                                                                                                                                                                                                                   [Ripe, ,, almost, sexy, amounts, of, blackberry, ,, plum, ,, casis, ,, bitter, chocolate, ,, and, vanilla, ., Lush, ,, hedonistic, mouthfeel, with, mouthwatering, acidity, to, balance, the, fruit, ., Long, ,, lingering, finish, with, a, touch, of, mocha, and, sweet, oak, .]   \n",
       "29151                                                                                                                                                                                                                                                                                                                                                        [dark, purple, ,, elegant, rich, aroma, ,, smooth, ,, velvet, ,, tannic, ,, long, aftertaste, -, a, great, wine, to, enjoy, when, mature, (, 10, years, +, )]   \n",
       "29236                                                                                                                                                                                                                                                                                                 [Lush, ,, ripe, ,, raspberries, and, blackberries, ,, with, some, spice, and, a, touch, of, mint, ., A, little, heat, on, the, finish, but, some, nice, tannins, for, some, grip, ., A, really, well, made, wine, .]   \n",
       "29253                                                                                                                                                                                                                                     [Give, this, plenty, of, time, to, open, up, ,, ~1, hour, ,, and, you, wo, n't, regret, it, ., Hints, of, black, cherry, and, dark, fruit, ,, but, lots, of, dark, chocolate, ., At, $, 9, this, is, a, great, value, wine, ,, even, if, you, 're, not, a, huge, merlot, fan, .]   \n",
       "29295                                                                                                                                  [Deep, purple, color, with, a, nice, scent, of, blueberry, on, the, nose, ., This, is, not, your, typical, Cali, fruit, bomb, merlot, ., It, has, a, fair, amount, of, structure, and, some, drier, tannins, that, would, benefit, from, a, few, hours, in, the, decanter, ., the, wine, still, has, plenty, of, juicy, fruit, and, a, medium, to, long, finish, ., Enjoy, !, !, !]   \n",
       "29327  [This, was, Wine, Number, 4, ., Very, ,, very, dark, and, beautiful, purple, color, ., The, nose, was, gorgeous, with, intense, blackberries, ,, mocha, infused, chocolate, ,, a, hint, of, vanilla, extract, ., The, palate, was, just, as, impressive, completely, filling, the, mid, palate, with, fruit, extract, ., Full, bodied, ,, in, balance, despite, a, very, high, alcohol, ,, tannins, are, dusty, and, ripe, ., This, was, a, return, to, formr, glory, for, this, wine, ., I, chose, this, as, my...   \n",
       "29333                                                                                                                                                                                                                                                                                                                                                [Deep, inky, garnet, color, ., Notes, of, pepper, ,, plum, and, dark, fruit, ., Juicy, dark, fruit, on, the, palate, ,, with, spicy, oak, dominating, the, finish, .]   \n",
       "29452                                                                                                                                             [very, dark, and, dense, ., leather, ,, cedar, ,, tobacco, --, musky, ,, earthy, ,, smokey, oak, finish.blackberry, ,, black, plum, ,, spiced, -, stewed, plum, ., walnut, husk, and, green, dish, soap.drank, last, glass, on, day, 2, :, cherry, ,, clove, ,, and, alcohol, ., Hard, to, believe, it, was, just, a, $, 20, merlot, ,, outstanding, for, the, price, .]   \n",
       "29538  [Dark, plum, color, ,, Aroma, :, Raspberries, ,, spice, ,, chocolate, ,, wood, chips, ,, Flavour, :, strawberry, ,, plum, ,, chocolate, ,, Strong, Tannins, but, there, are, a, lot, of, flavors, underneath, the, heavy, load, struggling, to, get, out, ., If, you, had, told, me, this, was, a, Cab, Sauv, I, would, n't, have, been, surprised, ,, this, is, an, enormously, meaty, Merlot, with, a, lot, of, potential, ., This, is, drinking, extremely, well, now, ,, but, ,, unusually, for, a, Merlot, ...   \n",
       "29603                                                      [From, magnum, ., Tight, after, opening, ., Open, and, rounding, after, one, hour, decant, ., Integrated, ,, chocolate, ,, cherry, and, plum, fruit, profile, with, light, oak, ., It, has, medium, /, full, concentration, ,, a, balanced, impression, ,, finishing, with, very, light, ,, but, present, ,, tannin, ., Overall, it, 's, clean, and, very, enjoyable, at, the, table, but, the, fruit, is, n't, complex, ., Now, or, wait, a, year, or, two, .]   \n",
       "29605                                                                                                                                                                                                                                                                                                                                                                          [ruby, red, color, ,, nose, of, plum, and, toasted, oak, ., palate, of, cherry, and, plum, ,, some, chocolate, and, ceder, on, the, finish]   \n",
       "29662  [Popped, and, poured, ., Color, :, deep, purple, ., Nose, :, cherry, ,, plum, ,, oak, ,, dusty, milk, chocolate, ,, spice, ,, rhubarb?Palate, :, Medium, -, bodied, ., Red, fruits, ,, plum, ,, oak, ., Decent, acidity, ., Hot, ., Medium, tannin, ., Medium, finish, ., Components, not, well, -, integrated, at, this, point, ., Overall, impression, :, decent, QPR, ., Was, hoping, for, more, given, WS, rating, ., May, settle, down, with, some, cellaring, ., Have, a, couple, of, bottles, that, will,...   \n",
       "29710                                                                                                                                                                                           [Deep, purple, in, colour, this, Merlot, has, intense, black, cherry, and, liquorice, aromas, on, the, nose, ., The, palate, is, full, bodied, and, chunky, ., The, dark, jammy, fruits, continue, with, additional, characters, of, dark, chocolate, ,, tar, and, rubber, ., Seems, a, little, sweet, for, my, liking, .]   \n",
       "29764                                                                                                                                                                                                                             [Nice, color, ..., very, full, raspberry, note, w/, light, vanilla, ..., very, fruit, forward, w/, strong, cherry, currant, medium, finish, ., An, immidiate, impression, upon, opening, is, a, bit, jammy, ..., but, a, good, breathing, really, tightens, everything, up, nicely, ...]   \n",
       "29777                                                                                                                                                                                                                                            [Actually, enjoyed, more, than, the, Cab, ., Lovely, nose, of, black, currants, ,, cherry, ,, sweet, oak, ,, and, chocolate, ., Lush, and, dense, palate, of, mocha, ,, black, fruits, ,, spices, on, finish, with, sweet, oak, ,, vanilla, ,, and, balanced, acidity, .]   \n",
       "29793                                                                                                                                                                                          [PnV, decanted, for, 2, hours, ., Purple, black, red, rim, very, dark, core, ., Coffe, cassis, licorice, and, earth, aromas, ., Medium, body, ., Plummy, with, slightly, gritty, espresso, tannins, waek, mid, palate, and, short, finish, ., Not, as, good, as, previous, bottles, ., Disappointed, with, this, bottle, .]   \n",
       "29798                                                                      [Decanted, for, 10, hours, (, we, had, a, few, tastes, along, the, way, ), big, massive, nose, of, bing, cherries, ,, sweet, dark, baking, chocolate, ,, some, minerality, ,, although, it, is, a, touch, hightoned, ., Very, thick, ,, dark, mouth, feel, ,, that, shows, chocolate, cherry, and, a, solid, structure, that, is, very, well, rounded, ., The, finish, though, a, bit, biting, due, to, the, tannis, is, medium, in, length, .]   \n",
       "29825                        [Inky, red, with, ruby, rim, ., Oakville, estate, is, right, on, for, the, nose, and, finish, ., In, between, the, palate, is, plummy, and, dense, ,, and, moderate, to, highly, complex, with, cedar, /, cigar, box, ,, tobacco, ,, and, some, other, black, fruit, ., Long, finish, ,, but, with, each, click, of, the, tongue, the, wood, comes, back, ., Nice, ,, actually, very, nice, ..., I, just, wish, it, was, taken, out, of, the, barrell, and, put, in, the, bottle, earlier, .]   \n",
       "29897  [Drank, from, magnum, ., Very, tight, initially, but, opened, up, nicely, after, about, 45, minutes, ., Fantastic, ruby, color, ,, no, signs, of, age, at, this, point, ., Medium, to, light, -, medium, in, body, ,, this, was, very, enjoyable, -, esp, with, food, ., Some, plum, ,, black, cherry, ,, and, dark, chocolate, oak, on, the, palate, but, the, flavors, were, far, from, being, expressive, ., I, am, inclined, to, describe, this, wine, as, \", thin, \", ,, especially, compared, to, most, hi...   \n",
       "29934                                                                                                                                                                                                                                                            [Wonderful, aroma, of, dark, cherry, ,, toasty, oak, and, mocha, ., Rich, mouthfeel, ,, nice, weight, long, finish, ., Cherry, and, mocha, predominate, the, palate, ,, with, a, bit, of, blackberry, on, the, long, finish, ., Nice, smooth, tannins, .]   \n",
       "\n",
       "           carb      char      merl      blan  \n",
       "8      0.477312  0.011601  0.505560  0.005526  \n",
       "32     0.802589  0.011081  0.181684  0.004646  \n",
       "126    0.532233  0.012266  0.447622  0.007879  \n",
       "129    0.742251  0.014967  0.237951  0.004831  \n",
       "131    0.461282  0.003795  0.527067  0.007857  \n",
       "145    0.610393  0.015528  0.369981  0.004098  \n",
       "176    0.729250  0.010732  0.252935  0.007084  \n",
       "192    0.521214  0.010502  0.462120  0.006165  \n",
       "278    0.649497  0.012266  0.333772  0.004464  \n",
       "408    0.676186  0.005954  0.315731  0.002128  \n",
       "427    0.513032  0.026754  0.452456  0.007758  \n",
       "542    0.627599  0.018475  0.349205  0.004721  \n",
       "601    0.554670  0.045649  0.392942  0.006739  \n",
       "620    0.450617  0.004697  0.539888  0.004797  \n",
       "625    0.645815  0.000408  0.353624  0.000153  \n",
       "640    0.430058  0.030837  0.531278  0.007826  \n",
       "674    0.611604  0.022311  0.359619  0.006467  \n",
       "692    0.744148  0.003022  0.249343  0.003488  \n",
       "757    0.454052  0.000649  0.543860  0.001439  \n",
       "831    0.797797  0.021651  0.174873  0.005679  \n",
       "928    0.640969  0.013039  0.343205  0.002787  \n",
       "937    0.578231  0.015726  0.399474  0.006568  \n",
       "955    0.531647  0.003462  0.463577  0.001314  \n",
       "961    0.704608  0.030091  0.256680  0.008621  \n",
       "1001   0.727141  0.006911  0.264289  0.001659  \n",
       "...         ...       ...       ...       ...  \n",
       "29013  0.373382  0.001953  0.624201  0.000464  \n",
       "29069  0.267163  0.021847  0.701220  0.009769  \n",
       "29095  0.492033  0.005292  0.498690  0.003984  \n",
       "29100  0.407630  0.001762  0.588989  0.001619  \n",
       "29115  0.669342  0.012182  0.311411  0.007066  \n",
       "29144  0.313992  0.024801  0.652405  0.008802  \n",
       "29151  0.525032  0.027828  0.439668  0.007472  \n",
       "29236  0.481011  0.015825  0.496410  0.006753  \n",
       "29253  0.325614  0.010607  0.657158  0.006621  \n",
       "29295  0.406487  0.016476  0.572189  0.004847  \n",
       "29327  0.497717  0.026350  0.468998  0.006936  \n",
       "29333  0.398837  0.008564  0.584703  0.007896  \n",
       "29452  0.349040  0.003982  0.645043  0.001935  \n",
       "29538  0.434453  0.004214  0.559632  0.001701  \n",
       "29603  0.510993  0.032645  0.448003  0.008359  \n",
       "29605  0.329070  0.002960  0.666892  0.001078  \n",
       "29662  0.396505  0.004872  0.596871  0.001751  \n",
       "29710  0.375910  0.003548  0.618911  0.001631  \n",
       "29764  0.439652  0.010463  0.541384  0.008502  \n",
       "29777  0.490296  0.005094  0.503219  0.001392  \n",
       "29793  0.517505  0.000841  0.481180  0.000474  \n",
       "29798  0.404797  0.019881  0.569009  0.006312  \n",
       "29825  0.564979  0.005286  0.425864  0.003871  \n",
       "29897  0.434153  0.022614  0.538510  0.004724  \n",
       "29934  0.386215  0.007946  0.603660  0.002179  \n",
       "\n",
       "[478 rows x 7 columns]"
      ]
     },
     "execution_count": 164,
     "metadata": {},
     "output_type": "execute_result"
    }
   ],
   "source": [
    "test[abs(test['carb']-0.0) < 0.01]\n",
    "test[abs(test['char']-0.0) < 0.01]\n",
    "test[abs(test['merl']-0.0) < 0.01]\n",
    "test[abs(test['blan']-0.0) < 0.01]"
   ]
  },
  {
   "cell_type": "markdown",
   "metadata": {},
   "source": [
    "Found the paper below, and tried applying BernoulliNB"
   ]
  },
  {
   "cell_type": "markdown",
   "metadata": {},
   "source": [
    "http://www.cs.cmu.edu/~knigam/papers/multinomial-aaaiws98.pdf"
   ]
  },
  {
   "cell_type": "code",
   "execution_count": 168,
   "metadata": {},
   "outputs": [],
   "source": [
    "best_bn = make_pipeline(CountVectorizer(analyzer=identity),\n",
    "                        TfidfTransformer(),\n",
    "                        BernoulliNB())"
   ]
  },
  {
   "cell_type": "code",
   "execution_count": 169,
   "metadata": {},
   "outputs": [
    {
     "name": "stdout",
     "output_type": "stream",
     "text": [
      "Fitting 10 folds for each of 25 candidates, totalling 250 fits\n"
     ]
    },
    {
     "name": "stderr",
     "output_type": "stream",
     "text": [
      "[Parallel(n_jobs=-1)]: Using backend LokyBackend with 4 concurrent workers.\n",
      "[Parallel(n_jobs=-1)]: Done  42 tasks      | elapsed:  2.2min\n",
      "[Parallel(n_jobs=-1)]: Done 192 tasks      | elapsed: 10.0min\n",
      "[Parallel(n_jobs=-1)]: Done 250 out of 250 | elapsed: 13.0min finished\n"
     ]
    },
    {
     "name": "stdout",
     "output_type": "stream",
     "text": [
      "Wall time: 13min\n"
     ]
    }
   ],
   "source": [
    "%%time\n",
    "params = {'countvectorizer__min_df':[0.5, 1, 10, 20, 50],\n",
    "          'bernoullinb__alpha':[0.01, 0.1, 0.5, 1.0, 2.0]}\n",
    "grid_search = GridSearchCV(best_bn, params, n_jobs=-1, verbose=1, cv=folds, return_train_score=True)\n",
    "grid_search.fit(df['tokens'], df['wine_variant'])\n"
   ]
  },
  {
   "cell_type": "code",
   "execution_count": 170,
   "metadata": {},
   "outputs": [
    {
     "data": {
      "text/plain": [
       "{'bernoullinb__alpha': 1.0, 'countvectorizer__min_df': 10}"
      ]
     },
     "execution_count": 170,
     "metadata": {},
     "output_type": "execute_result"
    }
   ],
   "source": [
    "grid_search.best_params_"
   ]
  },
  {
   "cell_type": "code",
   "execution_count": 173,
   "metadata": {},
   "outputs": [
    {
     "data": {
      "text/plain": [
       "(0.7573749999999999, 0.007023398393940072)"
      ]
     },
     "execution_count": 173,
     "metadata": {},
     "output_type": "execute_result"
    }
   ],
   "source": [
    "best_bn = make_pipeline(CountVectorizer(analyzer=identity, min_df=10),\n",
    "                        TfidfTransformer(),\n",
    "                        BernoulliNB(alpha=1.0))\n",
    "score = cross_val_score(best_tf, df['tokens'], df['wine_variant'], cv=folds, n_jobs=-1)\n",
    "score.mean(), score.std()"
   ]
  },
  {
   "cell_type": "markdown",
   "metadata": {},
   "source": [
    "Failing to getting better performance in other methods, I chose to improve logistic regression by tuning parameters."
   ]
  },
  {
   "cell_type": "code",
   "execution_count": 177,
   "metadata": {},
   "outputs": [],
   "source": [
    "best_lo = make_pipeline(CountVectorizer(analyzer=identity),\n",
    "                   TfidfTransformer(),\n",
    "                   LogisticRegression())"
   ]
  },
  {
   "cell_type": "code",
   "execution_count": 178,
   "metadata": {},
   "outputs": [
    {
     "data": {
      "text/plain": [
       "dict_keys(['memory', 'steps', 'countvectorizer', 'tfidftransformer', 'logisticregression', 'countvectorizer__analyzer', 'countvectorizer__binary', 'countvectorizer__decode_error', 'countvectorizer__dtype', 'countvectorizer__encoding', 'countvectorizer__input', 'countvectorizer__lowercase', 'countvectorizer__max_df', 'countvectorizer__max_features', 'countvectorizer__min_df', 'countvectorizer__ngram_range', 'countvectorizer__preprocessor', 'countvectorizer__stop_words', 'countvectorizer__strip_accents', 'countvectorizer__token_pattern', 'countvectorizer__tokenizer', 'countvectorizer__vocabulary', 'tfidftransformer__norm', 'tfidftransformer__smooth_idf', 'tfidftransformer__sublinear_tf', 'tfidftransformer__use_idf', 'logisticregression__C', 'logisticregression__class_weight', 'logisticregression__dual', 'logisticregression__fit_intercept', 'logisticregression__intercept_scaling', 'logisticregression__max_iter', 'logisticregression__multi_class', 'logisticregression__n_jobs', 'logisticregression__penalty', 'logisticregression__random_state', 'logisticregression__solver', 'logisticregression__tol', 'logisticregression__verbose', 'logisticregression__warm_start'])"
      ]
     },
     "execution_count": 178,
     "metadata": {},
     "output_type": "execute_result"
    }
   ],
   "source": [
    "best_lo.get_params().keys()"
   ]
  },
  {
   "cell_type": "code",
   "execution_count": 179,
   "metadata": {},
   "outputs": [
    {
     "name": "stdout",
     "output_type": "stream",
     "text": [
      "Fitting 10 folds for each of 100 candidates, totalling 1000 fits\n"
     ]
    },
    {
     "name": "stderr",
     "output_type": "stream",
     "text": [
      "[Parallel(n_jobs=-1)]: Using backend LokyBackend with 4 concurrent workers.\n",
      "[Parallel(n_jobs=-1)]: Done  42 tasks      | elapsed:  2.8min\n",
      "[Parallel(n_jobs=-1)]: Done 192 tasks      | elapsed: 12.5min\n",
      "[Parallel(n_jobs=-1)]: Done 442 tasks      | elapsed: 30.8min\n",
      "[Parallel(n_jobs=-1)]: Done 792 tasks      | elapsed: 98.5min\n",
      "[Parallel(n_jobs=-1)]: Done 1000 out of 1000 | elapsed: 166.8min finished\n",
      "C:\\Users\\Glen\\Anaconda3\\lib\\site-packages\\sklearn\\linear_model\\logistic.py:432: FutureWarning: Default solver will be changed to 'lbfgs' in 0.22. Specify a solver to silence this warning.\n",
      "  FutureWarning)\n",
      "C:\\Users\\Glen\\Anaconda3\\lib\\site-packages\\sklearn\\linear_model\\logistic.py:459: FutureWarning: Default multi_class will be changed to 'auto' in 0.22. Specify the multi_class option to silence this warning.\n",
      "  \"this warning.\", FutureWarning)\n"
     ]
    },
    {
     "data": {
      "text/plain": [
       "GridSearchCV(cv=StratifiedKFold(n_splits=10, random_state=10, shuffle=True),\n",
       "       error_score='raise-deprecating',\n",
       "       estimator=Pipeline(memory=None,\n",
       "     steps=[('countvectorizer', CountVectorizer(analyzer=<cyfunction identity at 0x000002CC39B529A0>,\n",
       "        binary=False, decode_error='strict', dtype=<class 'numpy.int64'>,\n",
       "        encoding='utf-8', input='content', lowercase=True, max_df=1.0,\n",
       "        max_features=None, min_df=1, ngram_range=(1, 1), p...penalty='l2', random_state=None, solver='warn',\n",
       "          tol=0.0001, verbose=0, warm_start=False))]),\n",
       "       fit_params=None, iid='warn', n_jobs=-1,\n",
       "       param_grid={'logisticregression__C': array([1.00000e-04, 1.45635e-04, 2.12095e-04, 3.08884e-04, 4.49843e-04,\n",
       "       6.55129e-04, 9.54095e-04, 1.38950e-03, 2.02359e-03, 2.94705e-03,\n",
       "       4.29193e-03, 6.25055e-03, 9.10298e-03, 1.32571e-02, 1.93070e-02,\n",
       "       2.81177e-02, 4.09492e-02, 5.96362e-02, 8..., 3.23746e+03, 4.71487e+03, 6.86649e+03, 1.00000e+04]), 'logisticregression__penalty': ['l1', 'l2']},\n",
       "       pre_dispatch='2*n_jobs', refit=True, return_train_score=True,\n",
       "       scoring=None, verbose=1)"
      ]
     },
     "execution_count": 179,
     "metadata": {},
     "output_type": "execute_result"
    }
   ],
   "source": [
    "params = {'logisticregression__C':np.logspace(-4, 4, 50),\n",
    "          'logisticregression__penalty':['l1', 'l2']}\n",
    "grid_search = GridSearchCV(best_lo, params, n_jobs=-1, verbose=1, cv=folds, return_train_score=True)\n",
    "grid_search.fit(df['tokens'], df['wine_variant'])"
   ]
  },
  {
   "cell_type": "code",
   "execution_count": 180,
   "metadata": {},
   "outputs": [
    {
     "data": {
      "text/plain": [
       "{'logisticregression__C': 1.2067926406393288,\n",
       " 'logisticregression__penalty': 'l1'}"
      ]
     },
     "execution_count": 180,
     "metadata": {},
     "output_type": "execute_result"
    }
   ],
   "source": [
    "grid_search.best_params_"
   ]
  },
  {
   "cell_type": "code",
   "execution_count": 195,
   "metadata": {},
   "outputs": [],
   "source": [
    "best_lo = make_pipeline(CountVectorizer(analyzer=identity),\n",
    "                   TfidfTransformer(),\n",
    "                   LogisticRegression(C=1.2067926406393288, penalty='l1'))\n",
    "score = cross_val_score(best_lo, df['tokens'], df['wine_variant'], cv=folds, n_jobs=-1)"
   ]
  },
  {
   "cell_type": "code",
   "execution_count": 196,
   "metadata": {},
   "outputs": [
    {
     "data": {
      "text/plain": [
       "(0.788025, 0.006157769482531792)"
      ]
     },
     "execution_count": 196,
     "metadata": {},
     "output_type": "execute_result"
    }
   ],
   "source": [
    "score.mean(), score.std()"
   ]
  },
  {
   "cell_type": "code",
   "execution_count": 197,
   "metadata": {},
   "outputs": [],
   "source": [
    "itrain, itest = first(folds.split(df['tokens'], \n",
    "                                  df['wine_variant']))\n",
    "train = df.iloc[itrain]\n",
    "test = df.iloc[itest]"
   ]
  },
  {
   "cell_type": "code",
   "execution_count": 198,
   "metadata": {},
   "outputs": [
    {
     "name": "stderr",
     "output_type": "stream",
     "text": [
      "C:\\Users\\Glen\\Anaconda3\\lib\\site-packages\\sklearn\\linear_model\\logistic.py:432: FutureWarning: Default solver will be changed to 'lbfgs' in 0.22. Specify a solver to silence this warning.\n",
      "  FutureWarning)\n",
      "C:\\Users\\Glen\\Anaconda3\\lib\\site-packages\\sklearn\\linear_model\\logistic.py:459: FutureWarning: Default multi_class will be changed to 'auto' in 0.22. Specify the multi_class option to silence this warning.\n",
      "  \"this warning.\", FutureWarning)\n"
     ]
    }
   ],
   "source": [
    "best_lo.fit(train['tokens'], train['wine_variant'])\n",
    "pred = best_lo.predict(test['tokens'])"
   ]
  },
  {
   "cell_type": "code",
   "execution_count": 199,
   "metadata": {},
   "outputs": [
    {
     "name": "stdout",
     "output_type": "stream",
     "text": [
      "                    precision    recall  f1-score   support\n",
      "\n",
      "Cabernet Sauvignon       0.72      0.75      0.73      1000\n",
      "        Chardonnay       0.84      0.86      0.85      1000\n",
      "            Merlot       0.72      0.70      0.71      1000\n",
      "   Sauvignon Blanc       0.89      0.85      0.87      1000\n",
      "\n",
      "         micro avg       0.79      0.79      0.79      4000\n",
      "         macro avg       0.79      0.79      0.79      4000\n",
      "      weighted avg       0.79      0.79      0.79      4000\n",
      "\n"
     ]
    }
   ],
   "source": [
    "print(classification_report(test['wine_variant'], pred))"
   ]
  },
  {
   "cell_type": "code",
   "execution_count": 204,
   "metadata": {},
   "outputs": [
    {
     "data": {
      "text/plain": [
       "array([[754,  22, 220,   4],\n",
       "       [ 19, 862,  32,  87],\n",
       "       [264,  22, 701,  13],\n",
       "       [ 15, 116,  14, 855]], dtype=int64)"
      ]
     },
     "execution_count": 204,
     "metadata": {},
     "output_type": "execute_result"
    }
   ],
   "source": [
    "confusion_matrix(test['wine_variant'], pred)"
   ]
  },
  {
   "cell_type": "code",
   "execution_count": 205,
   "metadata": {},
   "outputs": [
    {
     "data": {
      "image/png": "[encoded data removed]",
      "text/plain": [
       "<Figure size 432x288 with 2 Axes>"
      ]
     },
     "metadata": {
      "needs_background": "light"
     },
     "output_type": "display_data"
    }
   ],
   "source": [
    "plot_cm(test['wine_variant'], pred)"
   ]
  },
  {
   "cell_type": "code",
   "execution_count": 209,
   "metadata": {},
   "outputs": [
    {
     "data": {
      "text/plain": [
       "{'countvectorizer': CountVectorizer(analyzer=<cyfunction identity at 0x000002CC39B529A0>,\n",
       "         binary=False, decode_error='strict', dtype=<class 'numpy.int64'>,\n",
       "         encoding='utf-8', input='content', lowercase=True, max_df=1.0,\n",
       "         max_features=None, min_df=1, ngram_range=(1, 1), preprocessor=None,\n",
       "         stop_words=None, strip_accents=None,\n",
       "         token_pattern='(?u)\\\\b\\\\w\\\\w+\\\\b', tokenizer=None, vocabulary=None),\n",
       " 'tfidftransformer': TfidfTransformer(norm='l2', smooth_idf=True, sublinear_tf=False, use_idf=True),\n",
       " 'logisticregression': LogisticRegression(C=1.2067926406393288, class_weight=None, dual=False,\n",
       "           fit_intercept=True, intercept_scaling=1, max_iter=100,\n",
       "           multi_class='warn', n_jobs=None, penalty='l1', random_state=None,\n",
       "           solver='warn', tol=0.0001, verbose=0, warm_start=False)}"
      ]
     },
     "execution_count": 209,
     "metadata": {},
     "output_type": "execute_result"
    }
   ],
   "source": [
    "best_lo.named_steps"
   ]
  },
  {
   "cell_type": "code",
   "execution_count": 210,
   "metadata": {},
   "outputs": [],
   "source": [
    "X = np.array(best_lo.named_steps['countvectorizer'].get_feature_names())\n",
    "terms = X[np.argsort(best_lo.named_steps['logisticregression'].coef_[0])]"
   ]
  },
  {
   "cell_type": "code",
   "execution_count": 212,
   "metadata": {},
   "outputs": [
    {
     "data": {
      "text/plain": [
       "array(['carries', 'coarse', 'minty', 'decant', 'Bordeaux', 'Again',\n",
       "       'Decanted', 'Quilceda', 'peaked', 'cedar', 'WOTN', 'menthol',\n",
       "       'pencil', 'Silver', 'Strip', 'tannin', 'steak', 'box', 'ribs',\n",
       "       'Leap', 'ribeye', 'HSS', '97', 'Cork', 'filet', 'Tannins',\n",
       "       'Montelena', 'napa', 'Insignia', 'port', 'hours', 'mint', '1994',\n",
       "       'currants', 'tannins', 'bordeaux', 'blackcurrant', 'currant',\n",
       "       'eucalyptus', 'CS', 'Napa', 'Cassis', 'Caymus', 'cassis', 'Cabs',\n",
       "       'cabs', 'Cab', 'Cabernet', 'cabernet', 'cab'], dtype='<U120')"
      ]
     },
     "execution_count": 212,
     "metadata": {},
     "output_type": "execute_result"
    }
   ],
   "source": [
    "terms[-50:]"
   ]
  },
  {
   "cell_type": "code",
   "execution_count": 236,
   "metadata": {},
   "outputs": [
    {
     "data": {
      "text/plain": [
       "array(['claret', 'Think', 'Tobacco', 'Hillside', 'Howell', 'black',\n",
       "       'Black', 'pairs', 'ribeyes', 'carries', 'coarse', 'minty',\n",
       "       'decant', 'Bordeaux', 'Again', 'Decanted', 'Quilceda', 'peaked',\n",
       "       'cedar', 'WOTN', 'menthol', 'pencil', 'Silver', 'Strip', 'tannin',\n",
       "       'steak', 'box', 'ribs', 'Leap', 'ribeye', 'HSS', '97', 'Cork',\n",
       "       'filet', 'Tannins', 'Montelena', 'napa', 'Insignia', 'port',\n",
       "       'hours', 'mint', '1994', 'currants', 'tannins', 'bordeaux',\n",
       "       'blackcurrant', 'currant', 'eucalyptus', 'CS', 'Napa', 'Cassis',\n",
       "       'Caymus', 'cassis', 'Cabs', 'cabs', 'Cab', 'Cabernet', 'cabernet',\n",
       "       'cab'], dtype='<U120')"
      ]
     },
     "execution_count": 236,
     "metadata": {},
     "output_type": "execute_result"
    }
   ],
   "source": [
    "terms[37300:]"
   ]
  },
  {
   "cell_type": "code",
   "execution_count": 246,
   "metadata": {},
   "outputs": [
    {
     "data": {
      "text/plain": [
       "37359"
      ]
     },
     "execution_count": 246,
     "metadata": {},
     "output_type": "execute_result"
    }
   ],
   "source": [
    "len(X)"
   ]
  },
  {
   "cell_type": "markdown",
   "metadata": {},
   "source": [
    "#### What kinds of reviews is your classifier bad at classifying, and why?"
   ]
  },
  {
   "cell_type": "markdown",
   "metadata": {},
   "source": [
    "- MultinomialNB: what and why<p>\n",
    "    \n",
    "This model performed bad at classifying same color wines, as between Chardonney and Sauvignon Blanc, and as between Merlot and carbenet Sauvignon. <br>\n",
    "Based on the error analysis, I could find that the tokens that are generated from the simliar kinds corresponds much,\n",
    "which make it hard to tell. <br>\n",
    "In regards to MultinomialNB, as this model takes word frequencies and document length into account, but treats multiple\n",
    "occurrences of a word as independent events, it ended up with mistakenly taking grammar entities as important, as we seen the terms analysis. This could be resulted from not tokenizing with grammar tags."
   ]
  },
  {
   "cell_type": "markdown",
   "metadata": {},
   "source": [
    "- BernoulliNB: what and why <p>\n",
    "This model showed the similar result with the MultinomialNB, but slightly worse performing.<br> Its worse performance can be explained with its feature, not taking into account the number of times a word appears in a text or the length of a text, given the review texts are mostly short and have various ways of writing style within the same kind. <br>\n",
    "    Although this need further research, as I haven't conducted error analysis due to its worst performance."
   ]
  },
  {
   "cell_type": "markdown",
   "metadata": {},
   "source": [
    "- Logistic Regression: what and why\n",
    "The best performance I have achieved is by tuning parameters of the logistic regression model.<br>\n",
    "I tried applying SVM with both L1 and L2 penalty, and varying C, to optimize its constraint.<br>\n",
    "Based on the terms in my error analysis, most terms are classified with meaningful sense, better than MultinomialNB, which classified grammar terms. <br>\n",
    "As tuning parameters, it turned out that L1 penalty is favored, seemingly because it only includes most predictive words, which cleared distinction between similar kinds. Given that L1 is favored and transforming with tf-idf showed much improved compared to none in logistic regression, taking terms that shows distinctive classification would be more effective way  than considering more terms in this review corpus."
   ]
  },
  {
   "cell_type": "markdown",
   "metadata": {},
   "source": [
    "## Discussion"
   ]
  },
  {
   "cell_type": "markdown",
   "metadata": {},
   "source": [
    "- What have you learned about the task? <p>\n",
    "\n",
    ": There ain't no such thing as a free lunch (TANSTAAFL)\n",
    ": Breaking the performance of simplest method is harder, as much as the simplest method is favored in interpretability. <br>\n",
    ": Tuning parameter is important, but makes not much difference considering its expensive computing time. <br>\n",
    ": The same way of evaluation, such as applying the same fold in CV, should be maintained. <br>\n",
    ": Even when number values, such as parameter or coefficients are given, visualizing or taking holistic view can give important insight in analysis.<br>\n",
    ": Depending on dataset, taking occurrence is riskier than taking frequency, while frequency can be misled as in grammar terms. <br>\n",
    ": One way to offset those irrelevant frequency is “Term Frequency times Inverse Document Frequency”, which downscale weights for words that occur in many documents in the corpus and are therefore less informative than those that occur only in a smaller portion of the corpus.\n",
    ": The way you preprocess the data would be critical, although it's hard to know how at the beginning."
   ]
  },
  {
   "cell_type": "markdown",
   "metadata": {},
   "source": [
    "- Is the task hard or easy? What are the hard parts?<p>\n",
    ": Because my knowledge in wine classification is shallow, I couldn't draw much insights from the error analysis.<br>\n",
    ": It's hard to identify which parameter to apply for a specific method, rather than tuning the parameter, which is only matter of time.<br>\n",
    ": Some reviews could be classified into more than one category even when I read, which partly because my shallow knowledge in this area, or becuase those reviews are genuinely ambiguous. I wasn't sure if I leave those review unclear or how should I analyze them. In this analysis, I left them rather than trying to figure out how to fit them, afraid of over fitting.\n"
   ]
  },
  {
   "cell_type": "markdown",
   "metadata": {},
   "source": [
    "- What would you need to do to score better than 90% accuracy?"
   ]
  },
  {
   "cell_type": "markdown",
   "metadata": {},
   "source": [
    "1) Tokenize NER, or lemma <br>\n",
    ": With named entity, the classifier could learn what entity is critical in classfication. <br>\n",
    ": With lemma, the classifier could ignore some grammar words, as shown in my 'MultinomialNB classifier' (best_nb) <p>\n",
    "    \n",
    "2) Combine with different source of information <br>\n",
    ": As seen in misclassification examples, many reviews are even ambiguous to people, which are almost impossible to tell based sorely on reviews. With some other informations such as '% of ingredients', it would facilitate the accuracy."
   ]
  }
 ],
 "metadata": {
  "kernelspec": {
   "display_name": "Python 3",
   "language": "python",
   "name": "python3"
  },
  "language_info": {
   "codemirror_mode": {
    "name": "ipython",
    "version": 3
   },
   "file_extension": ".py",
   "mimetype": "text/x-python",
   "name": "python",
   "nbconvert_exporter": "python",
   "pygments_lexer": "ipython3",
   "version": "3.7.0"
  }
 },
 "nbformat": 4,
 "nbformat_minor": 2
}
