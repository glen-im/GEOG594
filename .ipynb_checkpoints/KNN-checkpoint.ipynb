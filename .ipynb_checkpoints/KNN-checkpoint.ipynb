{
 "cells": [
  {
   "cell_type": "code",
   "execution_count": 8,
   "metadata": {},
   "outputs": [],
   "source": [
    "import numpy as np\n",
    "from sortedcontainers import SortedList\n",
    "from datetime import datetime\n",
    "from future.utils import iteritems"
   ]
  },
  {
   "cell_type": "code",
   "execution_count": 4,
   "metadata": {},
   "outputs": [],
   "source": [
    "import os\n",
    "os.chdir('.\\\\ML\\\\supervised_class')"
   ]
  },
  {
   "cell_type": "code",
   "execution_count": 5,
   "metadata": {},
   "outputs": [],
   "source": [
    "from util import get_data"
   ]
  },
  {
   "cell_type": "code",
   "execution_count": 6,
   "metadata": {},
   "outputs": [],
   "source": [
    "import matplotlib.pyplot as plt"
   ]
  },
  {
   "cell_type": "code",
   "execution_count": 9,
   "metadata": {
    "scrolled": true
   },
   "outputs": [
    {
     "name": "stdout",
     "output_type": "stream",
     "text": [
      "Reading in and transforming data...\n",
      "\n",
      "k = 1\n",
      "Training time: 0:00:00\n",
      "Train accuracy: 1.0\n",
      "Time to compute train accuracy: 0:00:57.158682 Train size: 1000\n",
      "Test accuracy: 0.886\n",
      "Time to compute test accuracy: 0:01:01.782216 Test size: 1000\n",
      "\n",
      "k = 2\n",
      "Training time: 0:00:00\n",
      "Train accuracy: 1.0\n",
      "Time to compute train accuracy: 0:00:58.442207 Train size: 1000\n",
      "Test accuracy: 0.886\n",
      "Time to compute test accuracy: 0:01:08.669776 Test size: 1000\n",
      "\n",
      "k = 3\n",
      "Training time: 0:00:00\n",
      "Train accuracy: 0.963\n",
      "Time to compute train accuracy: 0:00:56.339683 Train size: 1000\n",
      "Test accuracy: 0.889\n",
      "Time to compute test accuracy: 0:01:04.071268 Test size: 1000\n",
      "\n",
      "k = 4\n",
      "Training time: 0:00:00\n",
      "Train accuracy: 0.961\n",
      "Time to compute train accuracy: 0:01:02.688975 Train size: 1000\n",
      "Test accuracy: 0.886\n",
      "Time to compute test accuracy: 0:01:02.360430 Test size: 1000\n",
      "\n",
      "k = 5\n",
      "Training time: 0:00:00\n",
      "Train accuracy: 0.938\n",
      "Time to compute train accuracy: 0:01:01.445759 Train size: 1000\n",
      "Test accuracy: 0.877\n",
      "Time to compute test accuracy: 0:01:05.202928 Test size: 1000\n"
     ]
    },
    {
     "data": {
      "image/png": "[encoded data removed]",
      "text/plain": [
       "<Figure size 432x288 with 1 Axes>"
      ]
     },
     "metadata": {
      "needs_background": "light"
     },
     "output_type": "display_data"
    }
   ],
   "source": [
    "class KNN(object):\n",
    "    def __init__(self, k):\n",
    "        self.k = k\n",
    "\n",
    "    def fit(self, X, y):\n",
    "        self.X = X\n",
    "        self.y = y\n",
    "\n",
    "    def predict(self, X):\n",
    "        y = np.zeros(len(X))\n",
    "        for i,x in enumerate(X): # test points\n",
    "            sl = SortedList() # stores (distance, class) tuples\n",
    "            for j,xt in enumerate(self.X): # training points\n",
    "                diff = x - xt\n",
    "                d = diff.dot(diff)\n",
    "                if len(sl) < self.k:\n",
    "                    # don't need to check, just add\n",
    "                    sl.add( (d, self.y[j]) )\n",
    "                else:\n",
    "                    if d < sl[-1][0]:\n",
    "                        del sl[-1]\n",
    "                        sl.add( (d, self.y[j]) )\n",
    "            # print \"input:\", x\n",
    "            # print \"sl:\", sl\n",
    "\n",
    "            # vote\n",
    "            votes = {}\n",
    "            for _, v in sl:\n",
    "                # print \"v:\", v\n",
    "                votes[v] = votes.get(v,0) + 1\n",
    "            # print \"votes:\", votes, \"true:\", Ytest[i]\n",
    "            max_votes = 0\n",
    "            max_votes_class = -1\n",
    "            for v,count in iteritems(votes):\n",
    "                if count > max_votes:\n",
    "                    max_votes = count\n",
    "                    max_votes_class = v\n",
    "            y[i] = max_votes_class\n",
    "        return y\n",
    "\n",
    "    def score(self, X, Y):\n",
    "        P = self.predict(X)\n",
    "        return np.mean(P == Y)\n",
    "\n",
    "\n",
    "if __name__ == '__main__':\n",
    "    X, Y = get_data(2000)\n",
    "    Ntrain = 1000\n",
    "    Xtrain, Ytrain = X[:Ntrain], Y[:Ntrain]\n",
    "    Xtest, Ytest = X[Ntrain:], Y[Ntrain:]\n",
    "    train_scores = []\n",
    "    test_scores = []\n",
    "    ks = (1,2,3,4,5)\n",
    "    for k in ks:\n",
    "        print(\"\\nk =\", k)\n",
    "        knn = KNN(k)\n",
    "        t0 = datetime.now()\n",
    "        knn.fit(Xtrain, Ytrain)\n",
    "        print(\"Training time:\", (datetime.now() - t0))\n",
    "\n",
    "        t0 = datetime.now()\n",
    "        train_score = knn.score(Xtrain, Ytrain)\n",
    "        train_scores.append(train_score)\n",
    "        print(\"Train accuracy:\", train_score)\n",
    "        print(\"Time to compute train accuracy:\", (datetime.now() - t0), \"Train size:\", len(Ytrain))\n",
    "\n",
    "        t0 = datetime.now()\n",
    "        test_score = knn.score(Xtest, Ytest)\n",
    "        print(\"Test accuracy:\", test_score)\n",
    "        test_scores.append(test_score)\n",
    "        print(\"Time to compute test accuracy:\", (datetime.now() - t0), \"Test size:\", len(Ytest))\n",
    "\n",
    "    plt.plot(ks, train_scores, label='train scores')\n",
    "    plt.plot(ks, test_scores, label='test scores')\n",
    "    plt.legend()\n",
    "    plt.show()"
   ]
  },
  {
   "cell_type": "code",
   "execution_count": null,
   "metadata": {},
   "outputs": [],
   "source": []
  }
 ],
 "metadata": {
  "kernelspec": {
   "display_name": "Python 3",
   "language": "python",
   "name": "python3"
  },
  "language_info": {
   "codemirror_mode": {
    "name": "ipython",
    "version": 3
   },
   "file_extension": ".py",
   "mimetype": "text/x-python",
   "name": "python",
   "nbconvert_exporter": "python",
   "pygments_lexer": "ipython3",
   "version": "3.7.0"
  }
 },
 "nbformat": 4,
 "nbformat_minor": 2
}
